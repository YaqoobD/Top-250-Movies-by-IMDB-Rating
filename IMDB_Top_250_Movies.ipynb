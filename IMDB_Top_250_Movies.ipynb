{
  "cells": [
    {
      "cell_type": "code",
      "execution_count": 1,
      "metadata": {
        "colab": {
          "base_uri": "https://localhost:8080/",
          "height": 699
        },
        "id": "JogZ-Mm6wZjG",
        "outputId": "9712cc3d-305d-42f7-eb1c-f09ab5224792"
      },
      "outputs": [],
      "source": [
        "# Import pandas as pd\n",
        "import pandas as pd\n",
        "\n",
        "# Import matplotlib as plt\n",
        "import matplotlib.pyplot as plt\n",
        "import matplotlib.colors as mcolors\n",
        "import seaborn as sns\n",
        "from colorama import Fore, Back, Style"
      ]
    },
    {
      "cell_type": "code",
      "execution_count": 2,
      "metadata": {},
      "outputs": [],
      "source": [
        "# Read the movies.csv file into a pandas dataframe called 'movies'\n",
        "movies = pd.read_csv(r'C:\\Users\\YaqoobDavid\\OneDrive - WOW Tech Europe GmbH\\Desktop\\IMDB-250-Movies\\Top-250-Movies-by-IMDB-Rating\\movies.csv')"
      ]
    },
    {
      "cell_type": "code",
      "execution_count": 3,
      "metadata": {},
      "outputs": [
        {
          "name": "stdout",
          "output_type": "stream",
          "text": [
            "\u001b[1mMovies Dataframe Head:\u001b[0m\n",
            "\u001b[1m---------------------\u001b[0m\n"
          ]
        },
        {
          "data": {
            "text/html": [
              "<div>\n",
              "<style scoped>\n",
              "    .dataframe tbody tr th:only-of-type {\n",
              "        vertical-align: middle;\n",
              "    }\n",
              "\n",
              "    .dataframe tbody tr th {\n",
              "        vertical-align: top;\n",
              "    }\n",
              "\n",
              "    .dataframe thead th {\n",
              "        text-align: right;\n",
              "    }\n",
              "</style>\n",
              "<table border=\"1\" class=\"dataframe\">\n",
              "  <thead>\n",
              "    <tr style=\"text-align: right;\">\n",
              "      <th></th>\n",
              "      <th>rank</th>\n",
              "      <th>movie_id</th>\n",
              "      <th>title</th>\n",
              "      <th>year</th>\n",
              "      <th>link</th>\n",
              "      <th>imbd_votes</th>\n",
              "      <th>imbd_rating</th>\n",
              "      <th>certificate</th>\n",
              "      <th>duration</th>\n",
              "      <th>genre</th>\n",
              "      <th>...</th>\n",
              "      <th>director_id</th>\n",
              "      <th>director_name</th>\n",
              "      <th>writer_id</th>\n",
              "      <th>writer_name</th>\n",
              "      <th>storyline</th>\n",
              "      <th>user_id</th>\n",
              "      <th>user_name</th>\n",
              "      <th>review_id</th>\n",
              "      <th>review_title</th>\n",
              "      <th>review_content</th>\n",
              "    </tr>\n",
              "  </thead>\n",
              "  <tbody>\n",
              "    <tr>\n",
              "      <th>0</th>\n",
              "      <td>1</td>\n",
              "      <td>tt0111161</td>\n",
              "      <td>The Shawshank Redemption</td>\n",
              "      <td>1994</td>\n",
              "      <td>https://www.imdb.com/title/tt0111161</td>\n",
              "      <td>2,711,075</td>\n",
              "      <td>9.3</td>\n",
              "      <td>R</td>\n",
              "      <td>2h 22m</td>\n",
              "      <td>Drama</td>\n",
              "      <td>...</td>\n",
              "      <td>nm0001104</td>\n",
              "      <td>Frank Darabont</td>\n",
              "      <td>nm0000175,nm0001104</td>\n",
              "      <td>Stephen King,Frank Darabont</td>\n",
              "      <td>Over the course of several years, two convicts...</td>\n",
              "      <td>ur16161013,ur15311310,ur0265899,ur16117882,ur1...</td>\n",
              "      <td>hitchcockthelegend,Sleepin_Dragon,EyeDunno,ale...</td>\n",
              "      <td>rw2284594,rw6606154,rw1221355,rw1822343,rw1288...</td>\n",
              "      <td>Some birds aren't meant to be caged.,An incred...</td>\n",
              "      <td>The Shawshank Redemption is written and direct...</td>\n",
              "    </tr>\n",
              "    <tr>\n",
              "      <th>1</th>\n",
              "      <td>2</td>\n",
              "      <td>tt0068646</td>\n",
              "      <td>The Godfather</td>\n",
              "      <td>1972</td>\n",
              "      <td>https://www.imdb.com/title/tt0068646</td>\n",
              "      <td>1,882,829</td>\n",
              "      <td>9.2</td>\n",
              "      <td>R</td>\n",
              "      <td>2h 55m</td>\n",
              "      <td>Crime,Drama</td>\n",
              "      <td>...</td>\n",
              "      <td>nm0000338</td>\n",
              "      <td>Francis Ford Coppola</td>\n",
              "      <td>nm0701374,nm0000338</td>\n",
              "      <td>Mario Puzo,Francis Ford Coppola</td>\n",
              "      <td>The aging patriarch of an organized crime dyna...</td>\n",
              "      <td>ur24740649,ur86182727,ur15794099,ur15311310,ur...</td>\n",
              "      <td>CalRhys,andrewburgereviews,gogoschka-1,Sleepin...</td>\n",
              "      <td>rw3038370,rw4756923,rw4059579,rw6568526,rw1897...</td>\n",
              "      <td>The Pinnacle Of Flawless Films!,An offer so go...</td>\n",
              "      <td>'The Godfather' is the pinnacle of flawless fi...</td>\n",
              "    </tr>\n",
              "    <tr>\n",
              "      <th>2</th>\n",
              "      <td>3</td>\n",
              "      <td>tt0468569</td>\n",
              "      <td>The Dark Knight</td>\n",
              "      <td>2008</td>\n",
              "      <td>https://www.imdb.com/title/tt0468569</td>\n",
              "      <td>2,684,051</td>\n",
              "      <td>9.0</td>\n",
              "      <td>PG-13</td>\n",
              "      <td>2h 32m</td>\n",
              "      <td>Action,Crime,Drama</td>\n",
              "      <td>...</td>\n",
              "      <td>nm0634240</td>\n",
              "      <td>Christopher Nolan</td>\n",
              "      <td>tt0468569,nm0634300,nm0634240,nm0275286,tt0468569</td>\n",
              "      <td>Writers,Jonathan Nolan,Christopher Nolan,David...</td>\n",
              "      <td>When the menace known as the Joker wreaks havo...</td>\n",
              "      <td>ur87850731,ur1293485,ur129557514,ur12449122,ur...</td>\n",
              "      <td>MrHeraclius,Smells_Like_Cheese,dseferaj,little...</td>\n",
              "      <td>rw5478826,rw1914442,rw6606026,rw1917099,rw5170...</td>\n",
              "      <td>The Dark Knight,The Batman of our dreams! So m...</td>\n",
              "      <td>Confidently directed, dark, brooding, and pack...</td>\n",
              "    </tr>\n",
              "    <tr>\n",
              "      <th>3</th>\n",
              "      <td>4</td>\n",
              "      <td>tt0071562</td>\n",
              "      <td>The Godfather Part II</td>\n",
              "      <td>1974</td>\n",
              "      <td>https://www.imdb.com/title/tt0071562</td>\n",
              "      <td>1,285,350</td>\n",
              "      <td>9.0</td>\n",
              "      <td>R</td>\n",
              "      <td>3h 22m</td>\n",
              "      <td>Crime,Drama</td>\n",
              "      <td>...</td>\n",
              "      <td>nm0000338</td>\n",
              "      <td>Francis Ford Coppola</td>\n",
              "      <td>nm0000338,nm0701374</td>\n",
              "      <td>Francis Ford Coppola,Mario Puzo</td>\n",
              "      <td>The early life and career of Vito Corleone in ...</td>\n",
              "      <td>ur0176092,ur0688559,ur92260614,ur0200644,ur117...</td>\n",
              "      <td>Nazi_Fighter_David,tfrizzell,umunir-36959,DanB...</td>\n",
              "      <td>rw0135607,rw0135487,rw5049900,rw0135526,rw0135...</td>\n",
              "      <td>Breathtaking in its scope and tragic grandeur....</td>\n",
              "      <td>Coppola's masterpiece is rivaled only by \"The ...</td>\n",
              "    </tr>\n",
              "    <tr>\n",
              "      <th>4</th>\n",
              "      <td>5</td>\n",
              "      <td>tt0050083</td>\n",
              "      <td>12 Angry Men</td>\n",
              "      <td>1957</td>\n",
              "      <td>https://www.imdb.com/title/tt0050083</td>\n",
              "      <td>800,954</td>\n",
              "      <td>9.0</td>\n",
              "      <td>Approved</td>\n",
              "      <td>1h 36m</td>\n",
              "      <td>Crime,Drama</td>\n",
              "      <td>...</td>\n",
              "      <td>nm0001486</td>\n",
              "      <td>Sidney Lumet</td>\n",
              "      <td>nm0741627</td>\n",
              "      <td>Reginald Rose</td>\n",
              "      <td>The jury in a New York City murder trial is fr...</td>\n",
              "      <td>ur1318549,ur0643062,ur0688559,ur20552756,ur945...</td>\n",
              "      <td>uds3,tedg,tfrizzell,TheLittleSongbird,henrique...</td>\n",
              "      <td>rw0060044,rw0060025,rw0060034,rw2262425,rw5448...</td>\n",
              "      <td>The over-used term \"classic movie\" really come...</td>\n",
              "      <td>This once-in-a-generation masterpiece simply h...</td>\n",
              "    </tr>\n",
              "  </tbody>\n",
              "</table>\n",
              "<p>5 rows × 22 columns</p>\n",
              "</div>"
            ],
            "text/plain": [
              "   rank   movie_id                     title  year  \\\n",
              "0     1  tt0111161  The Shawshank Redemption  1994   \n",
              "1     2  tt0068646             The Godfather  1972   \n",
              "2     3  tt0468569           The Dark Knight  2008   \n",
              "3     4  tt0071562     The Godfather Part II  1974   \n",
              "4     5  tt0050083              12 Angry Men  1957   \n",
              "\n",
              "                                   link imbd_votes  imbd_rating certificate  \\\n",
              "0  https://www.imdb.com/title/tt0111161  2,711,075          9.3           R   \n",
              "1  https://www.imdb.com/title/tt0068646  1,882,829          9.2           R   \n",
              "2  https://www.imdb.com/title/tt0468569  2,684,051          9.0       PG-13   \n",
              "3  https://www.imdb.com/title/tt0071562  1,285,350          9.0           R   \n",
              "4  https://www.imdb.com/title/tt0050083    800,954          9.0    Approved   \n",
              "\n",
              "  duration               genre  ... director_id         director_name  \\\n",
              "0   2h 22m               Drama  ...   nm0001104        Frank Darabont   \n",
              "1   2h 55m         Crime,Drama  ...   nm0000338  Francis Ford Coppola   \n",
              "2   2h 32m  Action,Crime,Drama  ...   nm0634240     Christopher Nolan   \n",
              "3   3h 22m         Crime,Drama  ...   nm0000338  Francis Ford Coppola   \n",
              "4   1h 36m         Crime,Drama  ...   nm0001486          Sidney Lumet   \n",
              "\n",
              "                                           writer_id  \\\n",
              "0                                nm0000175,nm0001104   \n",
              "1                                nm0701374,nm0000338   \n",
              "2  tt0468569,nm0634300,nm0634240,nm0275286,tt0468569   \n",
              "3                                nm0000338,nm0701374   \n",
              "4                                          nm0741627   \n",
              "\n",
              "                                         writer_name  \\\n",
              "0                        Stephen King,Frank Darabont   \n",
              "1                    Mario Puzo,Francis Ford Coppola   \n",
              "2  Writers,Jonathan Nolan,Christopher Nolan,David...   \n",
              "3                    Francis Ford Coppola,Mario Puzo   \n",
              "4                                      Reginald Rose   \n",
              "\n",
              "                                           storyline  \\\n",
              "0  Over the course of several years, two convicts...   \n",
              "1  The aging patriarch of an organized crime dyna...   \n",
              "2  When the menace known as the Joker wreaks havo...   \n",
              "3  The early life and career of Vito Corleone in ...   \n",
              "4  The jury in a New York City murder trial is fr...   \n",
              "\n",
              "                                             user_id  \\\n",
              "0  ur16161013,ur15311310,ur0265899,ur16117882,ur1...   \n",
              "1  ur24740649,ur86182727,ur15794099,ur15311310,ur...   \n",
              "2  ur87850731,ur1293485,ur129557514,ur12449122,ur...   \n",
              "3  ur0176092,ur0688559,ur92260614,ur0200644,ur117...   \n",
              "4  ur1318549,ur0643062,ur0688559,ur20552756,ur945...   \n",
              "\n",
              "                                           user_name  \\\n",
              "0  hitchcockthelegend,Sleepin_Dragon,EyeDunno,ale...   \n",
              "1  CalRhys,andrewburgereviews,gogoschka-1,Sleepin...   \n",
              "2  MrHeraclius,Smells_Like_Cheese,dseferaj,little...   \n",
              "3  Nazi_Fighter_David,tfrizzell,umunir-36959,DanB...   \n",
              "4  uds3,tedg,tfrizzell,TheLittleSongbird,henrique...   \n",
              "\n",
              "                                           review_id  \\\n",
              "0  rw2284594,rw6606154,rw1221355,rw1822343,rw1288...   \n",
              "1  rw3038370,rw4756923,rw4059579,rw6568526,rw1897...   \n",
              "2  rw5478826,rw1914442,rw6606026,rw1917099,rw5170...   \n",
              "3  rw0135607,rw0135487,rw5049900,rw0135526,rw0135...   \n",
              "4  rw0060044,rw0060025,rw0060034,rw2262425,rw5448...   \n",
              "\n",
              "                                        review_title  \\\n",
              "0  Some birds aren't meant to be caged.,An incred...   \n",
              "1  The Pinnacle Of Flawless Films!,An offer so go...   \n",
              "2  The Dark Knight,The Batman of our dreams! So m...   \n",
              "3  Breathtaking in its scope and tragic grandeur....   \n",
              "4  The over-used term \"classic movie\" really come...   \n",
              "\n",
              "                                      review_content  \n",
              "0  The Shawshank Redemption is written and direct...  \n",
              "1  'The Godfather' is the pinnacle of flawless fi...  \n",
              "2  Confidently directed, dark, brooding, and pack...  \n",
              "3  Coppola's masterpiece is rivaled only by \"The ...  \n",
              "4  This once-in-a-generation masterpiece simply h...  \n",
              "\n",
              "[5 rows x 22 columns]"
            ]
          },
          "execution_count": 3,
          "metadata": {},
          "output_type": "execute_result"
        }
      ],
      "source": [
        "# Display the first 5 rows of the 'movies' dataframe\n",
        "print(Style.BRIGHT+ 'Movies Dataframe Head:' + Style.RESET_ALL)\n",
        "print(Style.BRIGHT+ '---------------------' + Style.RESET_ALL)\n",
        "movies.head()"
      ]
    },
    {
      "cell_type": "code",
      "execution_count": 4,
      "metadata": {
        "colab": {
          "base_uri": "https://localhost:8080/",
          "height": 699
        },
        "id": "RA2ANYB6w6h4",
        "outputId": "73487108-d936-4ebe-e117-31c429fa51a0"
      },
      "outputs": [
        {
          "name": "stdout",
          "output_type": "stream",
          "text": [
            "\u001b[1mMovies Dataframe Tail:\u001b[0m\n",
            "\u001b[1m---------------------\u001b[0m\n"
          ]
        },
        {
          "data": {
            "text/html": [
              "<div>\n",
              "<style scoped>\n",
              "    .dataframe tbody tr th:only-of-type {\n",
              "        vertical-align: middle;\n",
              "    }\n",
              "\n",
              "    .dataframe tbody tr th {\n",
              "        vertical-align: top;\n",
              "    }\n",
              "\n",
              "    .dataframe thead th {\n",
              "        text-align: right;\n",
              "    }\n",
              "</style>\n",
              "<table border=\"1\" class=\"dataframe\">\n",
              "  <thead>\n",
              "    <tr style=\"text-align: right;\">\n",
              "      <th></th>\n",
              "      <th>rank</th>\n",
              "      <th>movie_id</th>\n",
              "      <th>title</th>\n",
              "      <th>year</th>\n",
              "      <th>link</th>\n",
              "      <th>imbd_votes</th>\n",
              "      <th>imbd_rating</th>\n",
              "      <th>certificate</th>\n",
              "      <th>duration</th>\n",
              "      <th>genre</th>\n",
              "      <th>...</th>\n",
              "      <th>director_id</th>\n",
              "      <th>director_name</th>\n",
              "      <th>writer_id</th>\n",
              "      <th>writer_name</th>\n",
              "      <th>storyline</th>\n",
              "      <th>user_id</th>\n",
              "      <th>user_name</th>\n",
              "      <th>review_id</th>\n",
              "      <th>review_title</th>\n",
              "      <th>review_content</th>\n",
              "    </tr>\n",
              "  </thead>\n",
              "  <tbody>\n",
              "    <tr>\n",
              "      <th>245</th>\n",
              "      <td>246</td>\n",
              "      <td>tt0071411</td>\n",
              "      <td>Dersu Uzala</td>\n",
              "      <td>1975</td>\n",
              "      <td>https://www.imdb.com/title/tt0071411</td>\n",
              "      <td>31,167</td>\n",
              "      <td>8.2</td>\n",
              "      <td>G</td>\n",
              "      <td>2h 22m</td>\n",
              "      <td>Adventure,Biography,Drama</td>\n",
              "      <td>...</td>\n",
              "      <td>nm0000041</td>\n",
              "      <td>Akira Kurosawa</td>\n",
              "      <td>nm0000041,nm0619330,nm0037539</td>\n",
              "      <td>Akira Kurosawa,Yuriy Nagibin,Vladimir Arsenev</td>\n",
              "      <td>The Russian army sends an explorer on an exped...</td>\n",
              "      <td>ur0453068,ur0491610,ur3212364,ur2488512,ur1911...</td>\n",
              "      <td>Quinoa1984,howard.schumann,Spondonman,claudio_...</td>\n",
              "      <td>rw1024676,rw0134934,rw1122059,rw2168879,rw2373...</td>\n",
              "      <td>a tribute to the endurance of man and nature, ...</td>\n",
              "      <td>For a variety of reasons (that are well known ...</td>\n",
              "    </tr>\n",
              "    <tr>\n",
              "      <th>246</th>\n",
              "      <td>247</td>\n",
              "      <td>tt1454029</td>\n",
              "      <td>The Help</td>\n",
              "      <td>2011</td>\n",
              "      <td>https://www.imdb.com/title/tt1454029</td>\n",
              "      <td>466,011</td>\n",
              "      <td>8.1</td>\n",
              "      <td>PG-13</td>\n",
              "      <td>2h 26m</td>\n",
              "      <td>Drama</td>\n",
              "      <td>...</td>\n",
              "      <td>nm0853238</td>\n",
              "      <td>Tate Taylor</td>\n",
              "      <td>nm0853238,nm3543826</td>\n",
              "      <td>Tate Taylor,Kathryn Stockett</td>\n",
              "      <td>An aspiring author during the civil rights mov...</td>\n",
              "      <td>ur0806494,ur1391596,ur24207576,ur2955724,ur221...</td>\n",
              "      <td>ferguson-6,JohnDeSando,taylor_king-890-815491,...</td>\n",
              "      <td>rw2473566,rw2472337,rw2472299,rw2697863,rw2488...</td>\n",
              "      <td>Minny Don't Burn Chicken,Ready to burst . . .,...</td>\n",
              "      <td>Greetings again from the darkness. The film is...</td>\n",
              "    </tr>\n",
              "    <tr>\n",
              "      <th>247</th>\n",
              "      <td>248</td>\n",
              "      <td>tt0103639</td>\n",
              "      <td>Aladdin</td>\n",
              "      <td>1992</td>\n",
              "      <td>https://www.imdb.com/title/tt0103639</td>\n",
              "      <td>429,219</td>\n",
              "      <td>8.0</td>\n",
              "      <td>G</td>\n",
              "      <td>1h 30m</td>\n",
              "      <td>Animation,Adventure,Comedy</td>\n",
              "      <td>...</td>\n",
              "      <td>nm0166256,nm0615780</td>\n",
              "      <td>Ron Clements,John Musker</td>\n",
              "      <td>tt0103639,nm0166256,nm0615780,nm0254645,tt0103639</td>\n",
              "      <td>Writers,Ron Clements,John Musker,Ted Elliott,</td>\n",
              "      <td>A kindhearted street urchin and a power-hungry...</td>\n",
              "      <td>ur1293485,ur1416505,ur4445210,ur4234119,ur0909...</td>\n",
              "      <td>Smells_Like_Cheese,Boba_Fett1138,ccthemovieman...</td>\n",
              "      <td>rw0302749,rw0950861,rw1571053,rw2534639,rw0302...</td>\n",
              "      <td>I'd put it in with the Disney classics,Great s...</td>\n",
              "      <td>Aladdin is such an awesome move that still get...</td>\n",
              "    </tr>\n",
              "    <tr>\n",
              "      <th>248</th>\n",
              "      <td>249</td>\n",
              "      <td>tt0083987</td>\n",
              "      <td>Gandhi</td>\n",
              "      <td>1982</td>\n",
              "      <td>https://www.imdb.com/title/tt0083987</td>\n",
              "      <td>234,688</td>\n",
              "      <td>8.0</td>\n",
              "      <td>PG</td>\n",
              "      <td>3h 11m</td>\n",
              "      <td>Biography,Drama,History</td>\n",
              "      <td>...</td>\n",
              "      <td>nm0000277</td>\n",
              "      <td>Richard Attenborough</td>\n",
              "      <td>nm0109300</td>\n",
              "      <td>John Briley</td>\n",
              "      <td>The life of the lawyer who became the famed le...</td>\n",
              "      <td>ur0954062,ur0688559,ur0176092,ur0940950,ur2620...</td>\n",
              "      <td>khatcher-2,tfrizzell,Nazi_Fighter_David,Rod-88...</td>\n",
              "      <td>rw0194126,rw1179566,rw1106866,rw0194132,rw0194...</td>\n",
              "      <td>Took nearly twenty years to make - not a singl...</td>\n",
              "      <td>Here indeed is one of the great films of the 2...</td>\n",
              "    </tr>\n",
              "    <tr>\n",
              "      <th>249</th>\n",
              "      <td>250</td>\n",
              "      <td>tt0099348</td>\n",
              "      <td>Dances with Wolves</td>\n",
              "      <td>1990</td>\n",
              "      <td>https://www.imdb.com/title/tt0099348</td>\n",
              "      <td>271,823</td>\n",
              "      <td>8.0</td>\n",
              "      <td>PG-13</td>\n",
              "      <td>3h 1m</td>\n",
              "      <td>Adventure,Drama,Western</td>\n",
              "      <td>...</td>\n",
              "      <td>nm0000126</td>\n",
              "      <td>Kevin Costner</td>\n",
              "      <td>nm0086658</td>\n",
              "      <td>Michael Blake</td>\n",
              "      <td>Lieutenant John Dunbar, assigned to a remote w...</td>\n",
              "      <td>ur66111139,ur16161013,ur20597848,ur1413169,ur5...</td>\n",
              "      <td>gbill-74877,hitchcockthelegend,bheadher,Philip...</td>\n",
              "      <td>rw6808367,rw2322324,rw4656461,rw0959913,rw1379...</td>\n",
              "      <td>Fantastic,It is the trail of a true human bein...</td>\n",
              "      <td>It's hard to think of blockbuster films that p...</td>\n",
              "    </tr>\n",
              "  </tbody>\n",
              "</table>\n",
              "<p>5 rows × 22 columns</p>\n",
              "</div>"
            ],
            "text/plain": [
              "     rank   movie_id               title  year  \\\n",
              "245   246  tt0071411         Dersu Uzala  1975   \n",
              "246   247  tt1454029            The Help  2011   \n",
              "247   248  tt0103639             Aladdin  1992   \n",
              "248   249  tt0083987              Gandhi  1982   \n",
              "249   250  tt0099348  Dances with Wolves  1990   \n",
              "\n",
              "                                     link imbd_votes  imbd_rating certificate  \\\n",
              "245  https://www.imdb.com/title/tt0071411     31,167          8.2           G   \n",
              "246  https://www.imdb.com/title/tt1454029    466,011          8.1       PG-13   \n",
              "247  https://www.imdb.com/title/tt0103639    429,219          8.0           G   \n",
              "248  https://www.imdb.com/title/tt0083987    234,688          8.0          PG   \n",
              "249  https://www.imdb.com/title/tt0099348    271,823          8.0       PG-13   \n",
              "\n",
              "    duration                       genre  ...          director_id  \\\n",
              "245   2h 22m   Adventure,Biography,Drama  ...            nm0000041   \n",
              "246   2h 26m                       Drama  ...            nm0853238   \n",
              "247   1h 30m  Animation,Adventure,Comedy  ...  nm0166256,nm0615780   \n",
              "248   3h 11m     Biography,Drama,History  ...            nm0000277   \n",
              "249    3h 1m     Adventure,Drama,Western  ...            nm0000126   \n",
              "\n",
              "                director_name  \\\n",
              "245            Akira Kurosawa   \n",
              "246               Tate Taylor   \n",
              "247  Ron Clements,John Musker   \n",
              "248      Richard Attenborough   \n",
              "249             Kevin Costner   \n",
              "\n",
              "                                             writer_id  \\\n",
              "245                      nm0000041,nm0619330,nm0037539   \n",
              "246                                nm0853238,nm3543826   \n",
              "247  tt0103639,nm0166256,nm0615780,nm0254645,tt0103639   \n",
              "248                                          nm0109300   \n",
              "249                                          nm0086658   \n",
              "\n",
              "                                       writer_name  \\\n",
              "245  Akira Kurosawa,Yuriy Nagibin,Vladimir Arsenev   \n",
              "246                   Tate Taylor,Kathryn Stockett   \n",
              "247  Writers,Ron Clements,John Musker,Ted Elliott,   \n",
              "248                                    John Briley   \n",
              "249                                  Michael Blake   \n",
              "\n",
              "                                             storyline  \\\n",
              "245  The Russian army sends an explorer on an exped...   \n",
              "246  An aspiring author during the civil rights mov...   \n",
              "247  A kindhearted street urchin and a power-hungry...   \n",
              "248  The life of the lawyer who became the famed le...   \n",
              "249  Lieutenant John Dunbar, assigned to a remote w...   \n",
              "\n",
              "                                               user_id  \\\n",
              "245  ur0453068,ur0491610,ur3212364,ur2488512,ur1911...   \n",
              "246  ur0806494,ur1391596,ur24207576,ur2955724,ur221...   \n",
              "247  ur1293485,ur1416505,ur4445210,ur4234119,ur0909...   \n",
              "248  ur0954062,ur0688559,ur0176092,ur0940950,ur2620...   \n",
              "249  ur66111139,ur16161013,ur20597848,ur1413169,ur5...   \n",
              "\n",
              "                                             user_name  \\\n",
              "245  Quinoa1984,howard.schumann,Spondonman,claudio_...   \n",
              "246  ferguson-6,JohnDeSando,taylor_king-890-815491,...   \n",
              "247  Smells_Like_Cheese,Boba_Fett1138,ccthemovieman...   \n",
              "248  khatcher-2,tfrizzell,Nazi_Fighter_David,Rod-88...   \n",
              "249  gbill-74877,hitchcockthelegend,bheadher,Philip...   \n",
              "\n",
              "                                             review_id  \\\n",
              "245  rw1024676,rw0134934,rw1122059,rw2168879,rw2373...   \n",
              "246  rw2473566,rw2472337,rw2472299,rw2697863,rw2488...   \n",
              "247  rw0302749,rw0950861,rw1571053,rw2534639,rw0302...   \n",
              "248  rw0194126,rw1179566,rw1106866,rw0194132,rw0194...   \n",
              "249  rw6808367,rw2322324,rw4656461,rw0959913,rw1379...   \n",
              "\n",
              "                                          review_title  \\\n",
              "245  a tribute to the endurance of man and nature, ...   \n",
              "246  Minny Don't Burn Chicken,Ready to burst . . .,...   \n",
              "247  I'd put it in with the Disney classics,Great s...   \n",
              "248  Took nearly twenty years to make - not a singl...   \n",
              "249  Fantastic,It is the trail of a true human bein...   \n",
              "\n",
              "                                        review_content  \n",
              "245  For a variety of reasons (that are well known ...  \n",
              "246  Greetings again from the darkness. The film is...  \n",
              "247  Aladdin is such an awesome move that still get...  \n",
              "248  Here indeed is one of the great films of the 2...  \n",
              "249  It's hard to think of blockbuster films that p...  \n",
              "\n",
              "[5 rows x 22 columns]"
            ]
          },
          "execution_count": 4,
          "metadata": {},
          "output_type": "execute_result"
        }
      ],
      "source": [
        "# Display the last 5 rows of the 'movies' dataframe\n",
        "print(Style.BRIGHT+ 'Movies Dataframe Tail:' + Style.RESET_ALL)\n",
        "print(Style.BRIGHT+ '---------------------' + Style.RESET_ALL)\n",
        "movies.tail()"
      ]
    },
    {
      "cell_type": "code",
      "execution_count": 5,
      "metadata": {
        "colab": {
          "base_uri": "https://localhost:8080/"
        },
        "id": "NQN_fzWsxBYx",
        "outputId": "419b57e7-16ca-4ef2-abe8-2c64cee4afd5"
      },
      "outputs": [
        {
          "name": "stdout",
          "output_type": "stream",
          "text": [
            "\u001b[1mMovies Data Info:\u001b[0m\n",
            "\u001b[1m---------------------\u001b[0m\n",
            "<class 'pandas.core.frame.DataFrame'>\n",
            "RangeIndex: 250 entries, 0 to 249\n",
            "Data columns (total 22 columns):\n",
            " #   Column          Non-Null Count  Dtype  \n",
            "---  ------          --------------  -----  \n",
            " 0   rank            250 non-null    int64  \n",
            " 1   movie_id        250 non-null    object \n",
            " 2   title           250 non-null    object \n",
            " 3   year            250 non-null    int64  \n",
            " 4   link            250 non-null    object \n",
            " 5   imbd_votes      250 non-null    object \n",
            " 6   imbd_rating     250 non-null    float64\n",
            " 7   certificate     249 non-null    object \n",
            " 8   duration        250 non-null    object \n",
            " 9   genre           250 non-null    object \n",
            " 10  cast_id         250 non-null    object \n",
            " 11  cast_name       250 non-null    object \n",
            " 12  director_id     250 non-null    object \n",
            " 13  director_name   250 non-null    object \n",
            " 14  writer_id       250 non-null    object \n",
            " 15  writer_name     250 non-null    object \n",
            " 16  storyline       250 non-null    object \n",
            " 17  user_id         250 non-null    object \n",
            " 18  user_name       250 non-null    object \n",
            " 19  review_id       250 non-null    object \n",
            " 20  review_title    250 non-null    object \n",
            " 21  review_content  250 non-null    object \n",
            "dtypes: float64(1), int64(2), object(19)\n",
            "memory usage: 43.1+ KB\n"
          ]
        }
      ],
      "source": [
        "# Display the information about the 'movies' dataframe\n",
        "print(Style.BRIGHT+ 'Movies Data Info:' + Style.RESET_ALL)\n",
        "print(Style.BRIGHT+ '---------------------' + Style.RESET_ALL)\n",
        "movies.info()"
      ]
    },
    {
      "cell_type": "code",
      "execution_count": 6,
      "metadata": {
        "id": "VG8m32BOxL4f"
      },
      "outputs": [],
      "source": [
        "# Select the 'writer_id' column of the 'movies' dataframe\n",
        "writer_ids = movies[['writer_id']]"
      ]
    },
    {
      "cell_type": "code",
      "execution_count": 7,
      "metadata": {
        "colab": {
          "base_uri": "https://localhost:8080/",
          "height": 300
        },
        "id": "Pe337ZJxxH-B",
        "outputId": "366eb89b-0a88-49e8-ad40-9cdca1005811"
      },
      "outputs": [
        {
          "data": {
            "text/html": [
              "<div>\n",
              "<style scoped>\n",
              "    .dataframe tbody tr th:only-of-type {\n",
              "        vertical-align: middle;\n",
              "    }\n",
              "\n",
              "    .dataframe tbody tr th {\n",
              "        vertical-align: top;\n",
              "    }\n",
              "\n",
              "    .dataframe thead th {\n",
              "        text-align: right;\n",
              "    }\n",
              "</style>\n",
              "<table border=\"1\" class=\"dataframe\">\n",
              "  <thead>\n",
              "    <tr style=\"text-align: right;\">\n",
              "      <th></th>\n",
              "      <th>rank</th>\n",
              "      <th>year</th>\n",
              "      <th>imbd_rating</th>\n",
              "    </tr>\n",
              "  </thead>\n",
              "  <tbody>\n",
              "    <tr>\n",
              "      <th>count</th>\n",
              "      <td>250.000000</td>\n",
              "      <td>250.000000</td>\n",
              "      <td>250.000000</td>\n",
              "    </tr>\n",
              "    <tr>\n",
              "      <th>mean</th>\n",
              "      <td>125.500000</td>\n",
              "      <td>1986.360000</td>\n",
              "      <td>8.306800</td>\n",
              "    </tr>\n",
              "    <tr>\n",
              "      <th>std</th>\n",
              "      <td>72.312977</td>\n",
              "      <td>25.125356</td>\n",
              "      <td>0.229006</td>\n",
              "    </tr>\n",
              "    <tr>\n",
              "      <th>min</th>\n",
              "      <td>1.000000</td>\n",
              "      <td>1921.000000</td>\n",
              "      <td>8.000000</td>\n",
              "    </tr>\n",
              "    <tr>\n",
              "      <th>25%</th>\n",
              "      <td>63.250000</td>\n",
              "      <td>1966.250000</td>\n",
              "      <td>8.100000</td>\n",
              "    </tr>\n",
              "    <tr>\n",
              "      <th>50%</th>\n",
              "      <td>125.500000</td>\n",
              "      <td>1994.000000</td>\n",
              "      <td>8.200000</td>\n",
              "    </tr>\n",
              "    <tr>\n",
              "      <th>75%</th>\n",
              "      <td>187.750000</td>\n",
              "      <td>2006.000000</td>\n",
              "      <td>8.400000</td>\n",
              "    </tr>\n",
              "    <tr>\n",
              "      <th>max</th>\n",
              "      <td>250.000000</td>\n",
              "      <td>2022.000000</td>\n",
              "      <td>9.300000</td>\n",
              "    </tr>\n",
              "  </tbody>\n",
              "</table>\n",
              "</div>"
            ],
            "text/plain": [
              "             rank         year  imbd_rating\n",
              "count  250.000000   250.000000   250.000000\n",
              "mean   125.500000  1986.360000     8.306800\n",
              "std     72.312977    25.125356     0.229006\n",
              "min      1.000000  1921.000000     8.000000\n",
              "25%     63.250000  1966.250000     8.100000\n",
              "50%    125.500000  1994.000000     8.200000\n",
              "75%    187.750000  2006.000000     8.400000\n",
              "max    250.000000  2022.000000     9.300000"
            ]
          },
          "execution_count": 7,
          "metadata": {},
          "output_type": "execute_result"
        }
      ],
      "source": [
        "# Display summary statistics for the 'movies' dataframe\n",
        "movies.describe()"
      ]
    },
    {
      "cell_type": "code",
      "execution_count": 8,
      "metadata": {
        "colab": {
          "base_uri": "https://localhost:8080/"
        },
        "id": "rhnUykFGxFky",
        "outputId": "13b23712-d00c-4625-e8c1-91c90f1afffe"
      },
      "outputs": [
        {
          "data": {
            "text/plain": [
              "Index(['rank', 'movie_id', 'title', 'year', 'link', 'imbd_votes',\n",
              "       'imbd_rating', 'certificate', 'duration', 'genre', 'cast_id',\n",
              "       'cast_name', 'director_id', 'director_name', 'writer_id', 'writer_name',\n",
              "       'storyline', 'user_id', 'user_name', 'review_id', 'review_title',\n",
              "       'review_content'],\n",
              "      dtype='object')"
            ]
          },
          "execution_count": 8,
          "metadata": {},
          "output_type": "execute_result"
        }
      ],
      "source": [
        "# Display the column names of the 'movies' dataframe\n",
        "movies.columns"
      ]
    },
    {
      "cell_type": "code",
      "execution_count": 9,
      "metadata": {
        "colab": {
          "base_uri": "https://localhost:8080/"
        },
        "id": "8mqlbHkVy0MP",
        "outputId": "42163f68-5f48-4a11-b459-027f94eda6bf"
      },
      "outputs": [
        {
          "data": {
            "text/plain": [
              "rank              0\n",
              "movie_id          0\n",
              "title             0\n",
              "year              0\n",
              "link              0\n",
              "imbd_votes        0\n",
              "imbd_rating       0\n",
              "certificate       1\n",
              "duration          0\n",
              "genre             0\n",
              "cast_id           0\n",
              "cast_name         0\n",
              "director_id       0\n",
              "director_name     0\n",
              "writer_id         0\n",
              "writer_name       0\n",
              "storyline         0\n",
              "user_id           0\n",
              "user_name         0\n",
              "review_id         0\n",
              "review_title      0\n",
              "review_content    0\n",
              "dtype: int64"
            ]
          },
          "execution_count": 9,
          "metadata": {},
          "output_type": "execute_result"
        }
      ],
      "source": [
        "# Check for missing values in the 'movies' dataframe and display the count for each column\n",
        "movies.isna().sum()"
      ]
    },
    {
      "cell_type": "code",
      "execution_count": 10,
      "metadata": {
        "id": "sOtfXTWFCDzK"
      },
      "outputs": [],
      "source": [
        "# Drop the specified columns from the 'movies' dataframe\n",
        "movies.drop(['director_id', 'link', 'cast_id', 'writer_id', 'user_id', 'user_name', 'review_id'], axis=1, inplace=True)"
      ]
    },
    {
      "cell_type": "code",
      "execution_count": 11,
      "metadata": {
        "id": "OCob6gpcz6W8"
      },
      "outputs": [],
      "source": [
        "# Remove commas from the 'imbd_votes' column of the 'movies' dataframe\n",
        "movies['imbd_votes'] = movies['imbd_votes'].replace(',', '', regex=True)"
      ]
    },
    {
      "cell_type": "code",
      "execution_count": 12,
      "metadata": {
        "id": "2lkXCK3_11pf"
      },
      "outputs": [],
      "source": [
        "# Replace missing values in the 'duration' column of the 'movies' dataframe with 0\n",
        "movies['duration'] = movies['duration'].fillna(0)"
      ]
    },
    {
      "cell_type": "code",
      "execution_count": 13,
      "metadata": {
        "id": "oJZ7MU6oz6Sl"
      },
      "outputs": [],
      "source": [
        "# Extract the hours and minutes from the 'duration' column of the 'movies' dataframe\n",
        "hours = movies['duration'].str.extract('(\\d+)h', expand=False).astype(float)\n",
        "minutes = movies['duration'].str.extract('(\\d+)m', expand=False).astype(float)\n",
        "\n",
        "# Convert the hours and minutes to total minutes and assign to 'duration' column of 'movies' dataframe\n",
        "total_minutes = hours * 60 + minutes\n",
        "movies['duration'] = total_minutes"
      ]
    },
    {
      "cell_type": "code",
      "execution_count": 14,
      "metadata": {
        "colab": {
          "base_uri": "https://localhost:8080/",
          "height": 1000
        },
        "id": "8xqVe3Rb4Pyj",
        "outputId": "b1ee09ab-e42f-40a9-c106-671136d10a09"
      },
      "outputs": [
        {
          "data": {
            "text/html": [
              "<div>\n",
              "<style scoped>\n",
              "    .dataframe tbody tr th:only-of-type {\n",
              "        vertical-align: middle;\n",
              "    }\n",
              "\n",
              "    .dataframe tbody tr th {\n",
              "        vertical-align: top;\n",
              "    }\n",
              "\n",
              "    .dataframe thead th {\n",
              "        text-align: right;\n",
              "    }\n",
              "</style>\n",
              "<table border=\"1\" class=\"dataframe\">\n",
              "  <thead>\n",
              "    <tr style=\"text-align: right;\">\n",
              "      <th></th>\n",
              "      <th>rank</th>\n",
              "      <th>movie_id</th>\n",
              "      <th>title</th>\n",
              "      <th>year</th>\n",
              "      <th>imbd_votes</th>\n",
              "      <th>imbd_rating</th>\n",
              "      <th>certificate</th>\n",
              "      <th>duration</th>\n",
              "      <th>genre</th>\n",
              "      <th>cast_name</th>\n",
              "      <th>director_name</th>\n",
              "      <th>writer_name</th>\n",
              "      <th>storyline</th>\n",
              "      <th>review_title</th>\n",
              "      <th>review_content</th>\n",
              "    </tr>\n",
              "  </thead>\n",
              "  <tbody>\n",
              "    <tr>\n",
              "      <th>158</th>\n",
              "      <td>159</td>\n",
              "      <td>tt0031381</td>\n",
              "      <td>Gone with the Wind</td>\n",
              "      <td>1939</td>\n",
              "      <td>319434</td>\n",
              "      <td>8.2</td>\n",
              "      <td>Passed</td>\n",
              "      <td>238.0</td>\n",
              "      <td>Drama,Romance,War</td>\n",
              "      <td>Thomas Mitchell,Barbara O'Neil,Vivien Leigh,Ev...</td>\n",
              "      <td>Victor Fleming,George Cukor,Sam Wood</td>\n",
              "      <td>Writers,Margaret Mitchell,Sidney Howard,Oliver...</td>\n",
              "      <td>American motion picture classic in which a man...</td>\n",
              "      <td>Georgia on my mind,Scarlett's So High Spirited...</td>\n",
              "      <td>This film shows the best of the American cinem...</td>\n",
              "    </tr>\n",
              "    <tr>\n",
              "      <th>79</th>\n",
              "      <td>80</td>\n",
              "      <td>tt0087843</td>\n",
              "      <td>Once Upon a Time in America</td>\n",
              "      <td>1984</td>\n",
              "      <td>356429</td>\n",
              "      <td>8.3</td>\n",
              "      <td>R</td>\n",
              "      <td>229.0</td>\n",
              "      <td>Crime,Drama</td>\n",
              "      <td>Robert De Niro,James Woods,Elizabeth McGovern,...</td>\n",
              "      <td>Sergio Leone</td>\n",
              "      <td>Writers,Harry Grey,Leonardo Benvenuti,Piero De...</td>\n",
              "      <td>A former Prohibition-era Jewish gangster retur...</td>\n",
              "      <td>Last, butchered, unappreciated, work from one ...</td>\n",
              "      <td>... Directors of all time. Let's start with a ...</td>\n",
              "    </tr>\n",
              "    <tr>\n",
              "      <th>96</th>\n",
              "      <td>97</td>\n",
              "      <td>tt0056172</td>\n",
              "      <td>Lawrence of Arabia</td>\n",
              "      <td>1962</td>\n",
              "      <td>297811</td>\n",
              "      <td>8.3</td>\n",
              "      <td>Approved</td>\n",
              "      <td>218.0</td>\n",
              "      <td>Adventure,Biography,Drama</td>\n",
              "      <td>Peter O'Toole,Alec Guinness,Anthony Quinn,Jack...</td>\n",
              "      <td>David Lean</td>\n",
              "      <td>Robert Bolt,Michael Wilson</td>\n",
              "      <td>The story of T.E. Lawrence, the English office...</td>\n",
              "      <td>Makes a Strong Case for Best Film Ever.,Majest...</td>\n",
              "      <td>The definitive epic of the cinema's history. \"...</td>\n",
              "    </tr>\n",
              "    <tr>\n",
              "      <th>182</th>\n",
              "      <td>183</td>\n",
              "      <td>tt0052618</td>\n",
              "      <td>Ben-Hur</td>\n",
              "      <td>1959</td>\n",
              "      <td>242433</td>\n",
              "      <td>8.1</td>\n",
              "      <td>G</td>\n",
              "      <td>212.0</td>\n",
              "      <td>Adventure,Drama</td>\n",
              "      <td>Charlton Heston,Jack Hawkins,Haya Harareet,Ste...</td>\n",
              "      <td>William Wyler</td>\n",
              "      <td>Writers,Lew Wallace,Karl Tunberg,Gore Vidal,</td>\n",
              "      <td>After a Jewish prince is betrayed and sent int...</td>\n",
              "      <td>Epic,The Tale of all Tales...,pretty much sets...</td>\n",
              "      <td>When I first saw 'Ben Hur' I was 8 years old a...</td>\n",
              "    </tr>\n",
              "    <tr>\n",
              "      <th>19</th>\n",
              "      <td>20</td>\n",
              "      <td>tt0047478</td>\n",
              "      <td>Seven Samurai</td>\n",
              "      <td>1954</td>\n",
              "      <td>349499</td>\n",
              "      <td>8.6</td>\n",
              "      <td>Not Rated</td>\n",
              "      <td>207.0</td>\n",
              "      <td>Action,Drama</td>\n",
              "      <td>Toshirô Mifune,Takashi Shimura,Keiko Tsushima,...</td>\n",
              "      <td>Akira Kurosawa</td>\n",
              "      <td>Akira Kurosawa,Shinobu Hashimoto,Hideo Oguni</td>\n",
              "      <td>Farmers from a village exploited by bandits hi...</td>\n",
              "      <td>Solid Gold,Story-Telling At Its Finest,Kurosaw...</td>\n",
              "      <td>I discovered 16 of Kurosawa's best known films...</td>\n",
              "    </tr>\n",
              "    <tr>\n",
              "      <th>...</th>\n",
              "      <td>...</td>\n",
              "      <td>...</td>\n",
              "      <td>...</td>\n",
              "      <td>...</td>\n",
              "      <td>...</td>\n",
              "      <td>...</td>\n",
              "      <td>...</td>\n",
              "      <td>...</td>\n",
              "      <td>...</td>\n",
              "      <td>...</td>\n",
              "      <td>...</td>\n",
              "      <td>...</td>\n",
              "      <td>...</td>\n",
              "      <td>...</td>\n",
              "      <td>...</td>\n",
              "    </tr>\n",
              "    <tr>\n",
              "      <th>131</th>\n",
              "      <td>132</td>\n",
              "      <td>tt0993846</td>\n",
              "      <td>The Wolf of Wall Street</td>\n",
              "      <td>2013</td>\n",
              "      <td>1437576</td>\n",
              "      <td>8.2</td>\n",
              "      <td>R</td>\n",
              "      <td>NaN</td>\n",
              "      <td>Biography,Comedy,Crime</td>\n",
              "      <td>Leonardo DiCaprio,Jonah Hill,Margot Robbie,Mat...</td>\n",
              "      <td>Martin Scorsese</td>\n",
              "      <td>Terence Winter,Jordan Belfort</td>\n",
              "      <td>Based on the true story of Jordan Belfort, fro...</td>\n",
              "      <td>High energy and wonderfully excessive as it de...</td>\n",
              "      <td>This film arrived in the UK with awards and Os...</td>\n",
              "    </tr>\n",
              "    <tr>\n",
              "      <th>194</th>\n",
              "      <td>195</td>\n",
              "      <td>tt0015324</td>\n",
              "      <td>Sherlock Jr.</td>\n",
              "      <td>1924</td>\n",
              "      <td>51440</td>\n",
              "      <td>8.2</td>\n",
              "      <td>Passed</td>\n",
              "      <td>NaN</td>\n",
              "      <td>Action,Comedy,Romance</td>\n",
              "      <td>Buster Keaton,Kathryn McGuire,Joe Keaton,Erwin...</td>\n",
              "      <td>Buster Keaton</td>\n",
              "      <td>Jean C. Havez,Joseph A. Mitchell,Clyde Bruckman</td>\n",
              "      <td>A film projectionist longs to be a detective, ...</td>\n",
              "      <td>Astounding Creativity,Through the Movie Screen...</td>\n",
              "      <td>It's almost impossible to describe the astound...</td>\n",
              "    </tr>\n",
              "    <tr>\n",
              "      <th>197</th>\n",
              "      <td>198</td>\n",
              "      <td>tt1392190</td>\n",
              "      <td>Mad Max: Fury Road</td>\n",
              "      <td>2015</td>\n",
              "      <td>1016838</td>\n",
              "      <td>8.1</td>\n",
              "      <td>R</td>\n",
              "      <td>NaN</td>\n",
              "      <td>Action,Adventure,Sci-Fi</td>\n",
              "      <td>Tom Hardy,Charlize Theron,Nicholas Hoult,Hugh ...</td>\n",
              "      <td>George Miller</td>\n",
              "      <td>George Miller,Brendan McCarthy,Nick Lathouris</td>\n",
              "      <td>In a post-apocalyptic wasteland, a woman rebel...</td>\n",
              "      <td>Pure action spectacle,It Never Stops,Finally y...</td>\n",
              "      <td>MAD MAX: FURY ROAD is the finest piece of pure...</td>\n",
              "    </tr>\n",
              "    <tr>\n",
              "      <th>210</th>\n",
              "      <td>211</td>\n",
              "      <td>tt0075148</td>\n",
              "      <td>Rocky</td>\n",
              "      <td>1976</td>\n",
              "      <td>587888</td>\n",
              "      <td>8.1</td>\n",
              "      <td>PG</td>\n",
              "      <td>NaN</td>\n",
              "      <td>Drama,Sport</td>\n",
              "      <td>Sylvester Stallone,Talia Shire,Burt Young,Carl...</td>\n",
              "      <td>John G. Avildsen</td>\n",
              "      <td>Sylvester Stallone</td>\n",
              "      <td>A small-time Philadelphia boxer gets a supreme...</td>\n",
              "      <td>\"He doesn't know it's a show. He thinks it's a...</td>\n",
              "      <td>One gains a certain degree of perspective with...</td>\n",
              "    </tr>\n",
              "    <tr>\n",
              "      <th>211</th>\n",
              "      <td>212</td>\n",
              "      <td>tt0091763</td>\n",
              "      <td>Platoon</td>\n",
              "      <td>1986</td>\n",
              "      <td>419386</td>\n",
              "      <td>8.1</td>\n",
              "      <td>R</td>\n",
              "      <td>NaN</td>\n",
              "      <td>Drama,War</td>\n",
              "      <td>Keith David,Forest Whitaker,Francesco Quinn,Ke...</td>\n",
              "      <td>Oliver Stone</td>\n",
              "      <td>Oliver Stone</td>\n",
              "      <td>Chris Taylor, a neophyte recruit in Vietnam, f...</td>\n",
              "      <td>The quintessential Vietnam war movie,A Realist...</td>\n",
              "      <td>It's September 1967, and Chris (Charlie Sheen)...</td>\n",
              "    </tr>\n",
              "  </tbody>\n",
              "</table>\n",
              "<p>250 rows × 15 columns</p>\n",
              "</div>"
            ],
            "text/plain": [
              "     rank   movie_id                        title  year imbd_votes  \\\n",
              "158   159  tt0031381           Gone with the Wind  1939     319434   \n",
              "79     80  tt0087843  Once Upon a Time in America  1984     356429   \n",
              "96     97  tt0056172           Lawrence of Arabia  1962     297811   \n",
              "182   183  tt0052618                      Ben-Hur  1959     242433   \n",
              "19     20  tt0047478                Seven Samurai  1954     349499   \n",
              "..    ...        ...                          ...   ...        ...   \n",
              "131   132  tt0993846      The Wolf of Wall Street  2013    1437576   \n",
              "194   195  tt0015324                 Sherlock Jr.  1924      51440   \n",
              "197   198  tt1392190           Mad Max: Fury Road  2015    1016838   \n",
              "210   211  tt0075148                        Rocky  1976     587888   \n",
              "211   212  tt0091763                      Platoon  1986     419386   \n",
              "\n",
              "     imbd_rating certificate  duration                      genre  \\\n",
              "158          8.2      Passed     238.0          Drama,Romance,War   \n",
              "79           8.3           R     229.0                Crime,Drama   \n",
              "96           8.3    Approved     218.0  Adventure,Biography,Drama   \n",
              "182          8.1           G     212.0            Adventure,Drama   \n",
              "19           8.6   Not Rated     207.0               Action,Drama   \n",
              "..           ...         ...       ...                        ...   \n",
              "131          8.2           R       NaN     Biography,Comedy,Crime   \n",
              "194          8.2      Passed       NaN      Action,Comedy,Romance   \n",
              "197          8.1           R       NaN    Action,Adventure,Sci-Fi   \n",
              "210          8.1          PG       NaN                Drama,Sport   \n",
              "211          8.1           R       NaN                  Drama,War   \n",
              "\n",
              "                                             cast_name  \\\n",
              "158  Thomas Mitchell,Barbara O'Neil,Vivien Leigh,Ev...   \n",
              "79   Robert De Niro,James Woods,Elizabeth McGovern,...   \n",
              "96   Peter O'Toole,Alec Guinness,Anthony Quinn,Jack...   \n",
              "182  Charlton Heston,Jack Hawkins,Haya Harareet,Ste...   \n",
              "19   Toshirô Mifune,Takashi Shimura,Keiko Tsushima,...   \n",
              "..                                                 ...   \n",
              "131  Leonardo DiCaprio,Jonah Hill,Margot Robbie,Mat...   \n",
              "194  Buster Keaton,Kathryn McGuire,Joe Keaton,Erwin...   \n",
              "197  Tom Hardy,Charlize Theron,Nicholas Hoult,Hugh ...   \n",
              "210  Sylvester Stallone,Talia Shire,Burt Young,Carl...   \n",
              "211  Keith David,Forest Whitaker,Francesco Quinn,Ke...   \n",
              "\n",
              "                            director_name  \\\n",
              "158  Victor Fleming,George Cukor,Sam Wood   \n",
              "79                           Sergio Leone   \n",
              "96                             David Lean   \n",
              "182                         William Wyler   \n",
              "19                         Akira Kurosawa   \n",
              "..                                    ...   \n",
              "131                       Martin Scorsese   \n",
              "194                         Buster Keaton   \n",
              "197                         George Miller   \n",
              "210                      John G. Avildsen   \n",
              "211                          Oliver Stone   \n",
              "\n",
              "                                           writer_name  \\\n",
              "158  Writers,Margaret Mitchell,Sidney Howard,Oliver...   \n",
              "79   Writers,Harry Grey,Leonardo Benvenuti,Piero De...   \n",
              "96                          Robert Bolt,Michael Wilson   \n",
              "182       Writers,Lew Wallace,Karl Tunberg,Gore Vidal,   \n",
              "19        Akira Kurosawa,Shinobu Hashimoto,Hideo Oguni   \n",
              "..                                                 ...   \n",
              "131                      Terence Winter,Jordan Belfort   \n",
              "194    Jean C. Havez,Joseph A. Mitchell,Clyde Bruckman   \n",
              "197      George Miller,Brendan McCarthy,Nick Lathouris   \n",
              "210                                 Sylvester Stallone   \n",
              "211                                       Oliver Stone   \n",
              "\n",
              "                                             storyline  \\\n",
              "158  American motion picture classic in which a man...   \n",
              "79   A former Prohibition-era Jewish gangster retur...   \n",
              "96   The story of T.E. Lawrence, the English office...   \n",
              "182  After a Jewish prince is betrayed and sent int...   \n",
              "19   Farmers from a village exploited by bandits hi...   \n",
              "..                                                 ...   \n",
              "131  Based on the true story of Jordan Belfort, fro...   \n",
              "194  A film projectionist longs to be a detective, ...   \n",
              "197  In a post-apocalyptic wasteland, a woman rebel...   \n",
              "210  A small-time Philadelphia boxer gets a supreme...   \n",
              "211  Chris Taylor, a neophyte recruit in Vietnam, f...   \n",
              "\n",
              "                                          review_title  \\\n",
              "158  Georgia on my mind,Scarlett's So High Spirited...   \n",
              "79   Last, butchered, unappreciated, work from one ...   \n",
              "96   Makes a Strong Case for Best Film Ever.,Majest...   \n",
              "182  Epic,The Tale of all Tales...,pretty much sets...   \n",
              "19   Solid Gold,Story-Telling At Its Finest,Kurosaw...   \n",
              "..                                                 ...   \n",
              "131  High energy and wonderfully excessive as it de...   \n",
              "194  Astounding Creativity,Through the Movie Screen...   \n",
              "197  Pure action spectacle,It Never Stops,Finally y...   \n",
              "210  \"He doesn't know it's a show. He thinks it's a...   \n",
              "211  The quintessential Vietnam war movie,A Realist...   \n",
              "\n",
              "                                        review_content  \n",
              "158  This film shows the best of the American cinem...  \n",
              "79   ... Directors of all time. Let's start with a ...  \n",
              "96   The definitive epic of the cinema's history. \"...  \n",
              "182  When I first saw 'Ben Hur' I was 8 years old a...  \n",
              "19   I discovered 16 of Kurosawa's best known films...  \n",
              "..                                                 ...  \n",
              "131  This film arrived in the UK with awards and Os...  \n",
              "194  It's almost impossible to describe the astound...  \n",
              "197  MAD MAX: FURY ROAD is the finest piece of pure...  \n",
              "210  One gains a certain degree of perspective with...  \n",
              "211  It's September 1967, and Chris (Charlie Sheen)...  \n",
              "\n",
              "[250 rows x 15 columns]"
            ]
          },
          "execution_count": 14,
          "metadata": {},
          "output_type": "execute_result"
        }
      ],
      "source": [
        "from numpy.core.fromnumeric import searchsorted\n",
        "# Sort the 'movies' dataframe by duration in descending order\n",
        "sorted_movies = movies.sort_values('duration', ascending=False)\n",
        "sorted_movies"
      ]
    },
    {
      "cell_type": "code",
      "execution_count": 15,
      "metadata": {
        "colab": {
          "base_uri": "https://localhost:8080/",
          "height": 312
        },
        "id": "BqPKEmZU4PwI",
        "outputId": "17d9948a-ef8e-4df8-ef9c-ea7d0c21c098"
      },
      "outputs": [
        {
          "data": {
            "text/html": [
              "<div>\n",
              "<style scoped>\n",
              "    .dataframe tbody tr th:only-of-type {\n",
              "        vertical-align: middle;\n",
              "    }\n",
              "\n",
              "    .dataframe tbody tr th {\n",
              "        vertical-align: top;\n",
              "    }\n",
              "\n",
              "    .dataframe thead th {\n",
              "        text-align: right;\n",
              "    }\n",
              "</style>\n",
              "<table border=\"1\" class=\"dataframe\">\n",
              "  <thead>\n",
              "    <tr style=\"text-align: right;\">\n",
              "      <th></th>\n",
              "      <th>rank</th>\n",
              "      <th>movie_id</th>\n",
              "      <th>title</th>\n",
              "      <th>year</th>\n",
              "      <th>imbd_votes</th>\n",
              "      <th>imbd_rating</th>\n",
              "      <th>certificate</th>\n",
              "      <th>duration</th>\n",
              "      <th>genre</th>\n",
              "      <th>cast_name</th>\n",
              "      <th>director_name</th>\n",
              "      <th>writer_name</th>\n",
              "      <th>storyline</th>\n",
              "      <th>review_title</th>\n",
              "      <th>review_content</th>\n",
              "    </tr>\n",
              "  </thead>\n",
              "  <tbody>\n",
              "    <tr>\n",
              "      <th>112</th>\n",
              "      <td>113</td>\n",
              "      <td>tt1745960</td>\n",
              "      <td>Top Gun: Maverick</td>\n",
              "      <td>2022</td>\n",
              "      <td>541686</td>\n",
              "      <td>8.3</td>\n",
              "      <td>PG-13</td>\n",
              "      <td>130.0</td>\n",
              "      <td>Action,Drama</td>\n",
              "      <td>Tom Cruise,Val Kilmer,Miles Teller,Jennifer Co...</td>\n",
              "      <td>Joseph Kosinski</td>\n",
              "      <td>Writers,Jim Cash,Jack Epps Jr.,Peter Craig,</td>\n",
              "      <td>After thirty years, Maverick is still pushing ...</td>\n",
              "      <td>The truly epic blockbuster we needed.,This is ...</td>\n",
              "      <td>Wow. The first Top Gun is a classic, and as we...</td>\n",
              "    </tr>\n",
              "    <tr>\n",
              "      <th>151</th>\n",
              "      <td>152</td>\n",
              "      <td>tt10872600</td>\n",
              "      <td>Spider-Man: No Way Home</td>\n",
              "      <td>2021</td>\n",
              "      <td>776160</td>\n",
              "      <td>8.2</td>\n",
              "      <td>PG-13</td>\n",
              "      <td>148.0</td>\n",
              "      <td>Action,Adventure,Fantasy</td>\n",
              "      <td>Tom Holland,Zendaya,Benedict Cumberbatch,Jacob...</td>\n",
              "      <td>Jon Watts</td>\n",
              "      <td>Writers,Chris McKenna,Erik Sommers,Stan Lee,</td>\n",
              "      <td>With Spider-Man's identity now revealed, Peter...</td>\n",
              "      <td>Loved every second,Great concept, mediocre exe...</td>\n",
              "      <td>This Spiderman is really fantastic. It captiva...</td>\n",
              "    </tr>\n",
              "  </tbody>\n",
              "</table>\n",
              "</div>"
            ],
            "text/plain": [
              "     rank    movie_id                    title  year imbd_votes  imbd_rating  \\\n",
              "112   113   tt1745960        Top Gun: Maverick  2022     541686          8.3   \n",
              "151   152  tt10872600  Spider-Man: No Way Home  2021     776160          8.2   \n",
              "\n",
              "    certificate  duration                     genre  \\\n",
              "112       PG-13     130.0              Action,Drama   \n",
              "151       PG-13     148.0  Action,Adventure,Fantasy   \n",
              "\n",
              "                                             cast_name    director_name  \\\n",
              "112  Tom Cruise,Val Kilmer,Miles Teller,Jennifer Co...  Joseph Kosinski   \n",
              "151  Tom Holland,Zendaya,Benedict Cumberbatch,Jacob...        Jon Watts   \n",
              "\n",
              "                                      writer_name  \\\n",
              "112   Writers,Jim Cash,Jack Epps Jr.,Peter Craig,   \n",
              "151  Writers,Chris McKenna,Erik Sommers,Stan Lee,   \n",
              "\n",
              "                                             storyline  \\\n",
              "112  After thirty years, Maverick is still pushing ...   \n",
              "151  With Spider-Man's identity now revealed, Peter...   \n",
              "\n",
              "                                          review_title  \\\n",
              "112  The truly epic blockbuster we needed.,This is ...   \n",
              "151  Loved every second,Great concept, mediocre exe...   \n",
              "\n",
              "                                        review_content  \n",
              "112  Wow. The first Top Gun is a classic, and as we...  \n",
              "151  This Spiderman is really fantastic. It captiva...  "
            ]
          },
          "execution_count": 15,
          "metadata": {},
          "output_type": "execute_result"
        }
      ],
      "source": [
        "# Sort the movies DataFrame by year in descending order and show the top 2 rows\n",
        "movies.sort_values('year', ascending = False).head(2)"
      ]
    },
    {
      "cell_type": "code",
      "execution_count": 16,
      "metadata": {
        "colab": {
          "base_uri": "https://localhost:8080/"
        },
        "id": "IW0Ddzh_BVqT",
        "outputId": "78536d6a-809d-4ae7-cbbf-24ad2ddb4d26"
      },
      "outputs": [
        {
          "data": {
            "text/plain": [
              "['Horror',\n",
              " 'Action',\n",
              " 'Film-Noir',\n",
              " 'Crime',\n",
              " 'Adventure',\n",
              " 'Drama',\n",
              " 'Animation',\n",
              " 'Romance',\n",
              " 'Thriller',\n",
              " 'Biography',\n",
              " 'War',\n",
              " 'Mystery',\n",
              " 'Western',\n",
              " 'Fantasy',\n",
              " 'Musical',\n",
              " 'Comedy',\n",
              " 'Music',\n",
              " 'Family',\n",
              " 'Sci-Fi',\n",
              " 'Sport',\n",
              " 'History']"
            ]
          },
          "execution_count": 16,
          "metadata": {},
          "output_type": "execute_result"
        }
      ],
      "source": [
        "# Join all the strings in the 'genre' column of the 'movies' DataFrame using a comma separator\n",
        "genre_str = ','.join(movies.genre)\n",
        "\n",
        "# Split the resulting string using a comma separator to get a list of individual genres\n",
        "genre_list = genre_str.split(',')\n",
        "\n",
        "# Convert the list to a set to remove duplicates and then back to a list\n",
        "# to get the unique genres in the 'genre' column of the 'movies' DataFrame\n",
        "unique_items = list(set(genre_list))\n",
        "unique_items"
      ]
    },
    {
      "cell_type": "code",
      "execution_count": 17,
      "metadata": {},
      "outputs": [
        {
          "data": {
            "text/plain": [
              "21"
            ]
          },
          "execution_count": 17,
          "metadata": {},
          "output_type": "execute_result"
        }
      ],
      "source": [
        "# returns the number of unique items in the list of genres\n",
        "len(unique_items) "
      ]
    },
    {
      "cell_type": "code",
      "execution_count": 18,
      "metadata": {
        "colab": {
          "base_uri": "https://localhost:8080/"
        },
        "id": "Mwgeu3rYIKL2",
        "outputId": "1ad40473-9928-4ae3-dd47-da988c91e70a"
      },
      "outputs": [
        {
          "name": "stdout",
          "output_type": "stream",
          "text": [
            "Drama                         19\n",
            "Crime,Drama                   14\n",
            "Animation,Adventure,Comedy    10\n",
            "Crime,Drama,Mystery            9\n",
            "Biography,Drama,History        9\n",
            "                              ..\n",
            "Drama,Sci-Fi                   1\n",
            "Action,Thriller                1\n",
            "Comedy,Drama,Family            1\n",
            "Comedy,Music,Romance           1\n",
            "Comedy                         1\n",
            "Name: genre, Length: 104, dtype: int64\n"
          ]
        }
      ],
      "source": [
        "# Count the number of movies in each genre\n",
        "genre_counts = movies['genre'].value_counts()\n",
        "\n",
        "# Print the resulting series of genre counts\n",
        "print(genre_counts)"
      ]
    },
    {
      "cell_type": "code",
      "execution_count": 19,
      "metadata": {
        "colab": {
          "base_uri": "https://localhost:8080/",
          "height": 206
        },
        "id": "o-C504mbIAtb",
        "outputId": "e5231baa-5578-4e93-d961-5338430bf578"
      },
      "outputs": [
        {
          "data": {
            "text/html": [
              "<div>\n",
              "<style scoped>\n",
              "    .dataframe tbody tr th:only-of-type {\n",
              "        vertical-align: middle;\n",
              "    }\n",
              "\n",
              "    .dataframe tbody tr th {\n",
              "        vertical-align: top;\n",
              "    }\n",
              "\n",
              "    .dataframe thead th {\n",
              "        text-align: right;\n",
              "    }\n",
              "</style>\n",
              "<table border=\"1\" class=\"dataframe\">\n",
              "  <thead>\n",
              "    <tr style=\"text-align: right;\">\n",
              "      <th></th>\n",
              "      <th>title</th>\n",
              "      <th>year</th>\n",
              "      <th>imbd_rating</th>\n",
              "      <th>imbd_votes</th>\n",
              "      <th>genre</th>\n",
              "      <th>director_name</th>\n",
              "    </tr>\n",
              "  </thead>\n",
              "  <tbody>\n",
              "    <tr>\n",
              "      <th>0</th>\n",
              "      <td>The Shawshank Redemption</td>\n",
              "      <td>1994</td>\n",
              "      <td>9.3</td>\n",
              "      <td>2711075</td>\n",
              "      <td>Drama</td>\n",
              "      <td>Frank Darabont</td>\n",
              "    </tr>\n",
              "    <tr>\n",
              "      <th>1</th>\n",
              "      <td>The Godfather</td>\n",
              "      <td>1972</td>\n",
              "      <td>9.2</td>\n",
              "      <td>1882829</td>\n",
              "      <td>Crime,Drama</td>\n",
              "      <td>Francis Ford Coppola</td>\n",
              "    </tr>\n",
              "    <tr>\n",
              "      <th>4</th>\n",
              "      <td>12 Angry Men</td>\n",
              "      <td>1957</td>\n",
              "      <td>9.0</td>\n",
              "      <td>800954</td>\n",
              "      <td>Crime,Drama</td>\n",
              "      <td>Sidney Lumet</td>\n",
              "    </tr>\n",
              "    <tr>\n",
              "      <th>2</th>\n",
              "      <td>The Dark Knight</td>\n",
              "      <td>2008</td>\n",
              "      <td>9.0</td>\n",
              "      <td>2684051</td>\n",
              "      <td>Action,Crime,Drama</td>\n",
              "      <td>Christopher Nolan</td>\n",
              "    </tr>\n",
              "    <tr>\n",
              "      <th>6</th>\n",
              "      <td>The Lord of the Rings: The Return of the King</td>\n",
              "      <td>2003</td>\n",
              "      <td>9.0</td>\n",
              "      <td>1865812</td>\n",
              "      <td>Action,Adventure,Drama</td>\n",
              "      <td>Peter Jackson</td>\n",
              "    </tr>\n",
              "  </tbody>\n",
              "</table>\n",
              "</div>"
            ],
            "text/plain": [
              "                                           title  year  imbd_rating  \\\n",
              "0                       The Shawshank Redemption  1994          9.3   \n",
              "1                                  The Godfather  1972          9.2   \n",
              "4                                   12 Angry Men  1957          9.0   \n",
              "2                                The Dark Knight  2008          9.0   \n",
              "6  The Lord of the Rings: The Return of the King  2003          9.0   \n",
              "\n",
              "  imbd_votes                   genre         director_name  \n",
              "0    2711075                   Drama        Frank Darabont  \n",
              "1    1882829             Crime,Drama  Francis Ford Coppola  \n",
              "4     800954             Crime,Drama          Sidney Lumet  \n",
              "2    2684051      Action,Crime,Drama     Christopher Nolan  \n",
              "6    1865812  Action,Adventure,Drama         Peter Jackson  "
            ]
          },
          "execution_count": 19,
          "metadata": {},
          "output_type": "execute_result"
        }
      ],
      "source": [
        "# Sort the movies DataFrame by IMDb rating and IMDb votes in descending order, and select the top 5 rows\n",
        "top_movies = movies.sort_values(['imbd_rating', 'imbd_votes'], ascending=False).head(5)\n",
        "\n",
        "# Select only the columns 'title', 'year', 'imbd_rating', 'imbd_votes', 'genre', and 'director_name'\n",
        "top_movies = top_movies[['title', 'year', 'imbd_rating', 'imbd_votes', 'genre', 'director_name']]\n",
        "top_movies"
      ]
    },
    {
      "attachments": {},
      "cell_type": "markdown",
      "metadata": {
        "id": "vzjHbFH_HOjk"
      },
      "source": [
        "### What is the average rating of the movies in the dataset?"
      ]
    },
    {
      "cell_type": "code",
      "execution_count": 20,
      "metadata": {
        "colab": {
          "base_uri": "https://localhost:8080/"
        },
        "id": "bIagwiHYA6yN",
        "outputId": "4059ca63-87d2-4247-c001-f11e825d8da8"
      },
      "outputs": [
        {
          "name": "stdout",
          "output_type": "stream",
          "text": [
            "The average rating of the movies in the dataset is: 8.306799999999999\n"
          ]
        }
      ],
      "source": [
        "# Calculate the average rating of the movies in the dataset\n",
        "avg_rating = movies['imbd_rating'].mean()\n",
        "print('The average rating of the movies in the dataset is:', avg_rating)"
      ]
    },
    {
      "attachments": {},
      "cell_type": "markdown",
      "metadata": {
        "id": "xQqdfjyxHUp3"
      },
      "source": [
        "### What is the distribution of movie genres in the dataset?"
      ]
    },
    {
      "cell_type": "code",
      "execution_count": 21,
      "metadata": {
        "colab": {
          "base_uri": "https://localhost:8080/"
        },
        "id": "8ojI7zy-EyJI",
        "outputId": "743332ad-e31b-4ce3-c4e9-79ea94ca86a9"
      },
      "outputs": [
        {
          "name": "stdout",
          "output_type": "stream",
          "text": [
            "The distribution of movie genres in the dataset is:\n",
            "Drama                         0.076\n",
            "Crime,Drama                   0.056\n",
            "Animation,Adventure,Comedy    0.040\n",
            "Crime,Drama,Mystery           0.036\n",
            "Biography,Drama,History       0.036\n",
            "                              ...  \n",
            "Drama,Sci-Fi                  0.004\n",
            "Action,Thriller               0.004\n",
            "Comedy,Drama,Family           0.004\n",
            "Comedy,Music,Romance          0.004\n",
            "Comedy                        0.004\n",
            "Name: genre, Length: 104, dtype: float64\n"
          ]
        }
      ],
      "source": [
        "# Calculate the distribution of movie genres in the dataset\n",
        "genre_distribution = movies['genre'].value_counts(normalize=True)\n",
        "\n",
        "print('The distribution of movie genres in the dataset is:')\n",
        "print(genre_distribution)"
      ]
    },
    {
      "attachments": {},
      "cell_type": "markdown",
      "metadata": {
        "id": "_pth5BGjHoPb"
      },
      "source": [
        "### Who are the top-rated directors in the dataset?"
      ]
    },
    {
      "cell_type": "code",
      "execution_count": 75,
      "metadata": {
        "colab": {
          "base_uri": "https://localhost:8080/"
        },
        "id": "y8FE5q-2E6x3",
        "outputId": "c2084284-bf3d-444d-e675-efae85ac317a"
      },
      "outputs": [
        {
          "data": {
            "text/plain": [
              "<Axes: ylabel='director_name'>"
            ]
          },
          "execution_count": 75,
          "metadata": {},
          "output_type": "execute_result"
        },
        {
          "data": {
            "image/png": "[encoded data removed]",
            "text/plain": [
              "<Figure size 800x550 with 1 Axes>"
            ]
          },
          "metadata": {},
          "output_type": "display_data"
        }
      ],
      "source": [
        "# Group the movies by director and calculate the mean rating for each director\n",
        "director_ratings = movies.groupby('director_name')['imbd_rating'].mean()\n",
        "\n",
        "# Sort the directors by mean rating in descending order\n",
        "top_directors = director_ratings.sort_values(ascending=False)\n",
        "\n",
        "# print('The top-rated directors in the dataset are:')\n",
        "top_directors.head(10).sort_values().plot(kind = 'barh')"
      ]
    },
    {
      "attachments": {},
      "cell_type": "markdown",
      "metadata": {
        "id": "yad2tm2w_7BG"
      },
      "source": [
        "### What is the distribution of movie release years in the dataset?"
      ]
    },
    {
      "cell_type": "code",
      "execution_count": 23,
      "metadata": {
        "colab": {
          "base_uri": "https://localhost:8080/"
        },
        "id": "NuvUBZaUFsTf",
        "outputId": "3d9ee93a-6050-4831-c10c-8360fab7337a"
      },
      "outputs": [
        {
          "name": "stdout",
          "output_type": "stream",
          "text": [
            "The distribution of movie release years in the dataset is:\n",
            "1995    0.032\n",
            "2004    0.028\n",
            "2009    0.024\n",
            "1957    0.024\n",
            "2003    0.024\n",
            "        ...  \n",
            "2022    0.004\n",
            "1941    0.004\n",
            "1958    0.004\n",
            "1987    0.004\n",
            "1934    0.004\n",
            "Name: year, Length: 86, dtype: float64\n"
          ]
        }
      ],
      "source": [
        "# Calculate the distribution of movie release years in the dataset\n",
        "year_distribution = movies['year'].value_counts(normalize=True)\n",
        "\n",
        "print('The distribution of movie release years in the dataset is:')\n",
        "print(year_distribution)"
      ]
    },
    {
      "cell_type": "markdown",
      "metadata": {
        "id": "_0fuZJvoJMCZ"
      },
      "source": [
        "The output of the code I provided shows the distribution of movie release years in the dataset. It is a Series object with the count of movies released each year, normalized to show the proportion of movies in the dataset that were released in each year.\n",
        "\n",
        "For example, the output you provided shows that 3.2% of the movies in the dataset were released in 1995, 2.8% were released in 2004, 2.4% were released in 2009, and so on.\n",
        "\n"
      ]
    },
    {
      "attachments": {},
      "cell_type": "markdown",
      "metadata": {},
      "source": [
        "### What are the most popular movie titles in the dataset based on imbd_rating?"
      ]
    },
    {
      "cell_type": "code",
      "execution_count": 91,
      "metadata": {
        "colab": {
          "base_uri": "https://localhost:8080/"
        },
        "id": "Yu4FdAX0FsRg",
        "outputId": "abf7cbd6-8ccc-419e-d1b6-9e6de97342b5"
      },
      "outputs": [
        {
          "name": "stdout",
          "output_type": "stream",
          "text": [
            "The most popular movie titles in the dataset based on IMDB_rating are:\n"
          ]
        },
        {
          "data": {
            "image/png": "[encoded data removed]",
            "text/plain": [
              "<Figure size 800x550 with 1 Axes>"
            ]
          },
          "metadata": {},
          "output_type": "display_data"
        }
      ],
      "source": [
        "# Sort the movies by imbd_rating in descending order\n",
        "popular_movies = movies.sort_values('imbd_rating', ascending=False)\n",
        "\n",
        "print('The most popular movie titles in the dataset based on IMDB_rating are:')\n",
        "popular_movies[['title', 'imbd_rating']].sort_values('imbd_rating', ascending = False).head(10)\n",
        "top_movies = popular_movies[['title', 'imbd_rating']].sort_values('imbd_rating', ascending=False).head(10)\n",
        "\n",
        "# Reverse the order of the data\n",
        "top_movies = top_movies.iloc[::-1]\n",
        "\n",
        "# Create a horizontal bar plot of the top 10 movies\n",
        "fig, ax = plt.subplots()\n",
        "ax.barh(y=top_movies['title'], width=top_movies['imbd_rating'])\n",
        "\n",
        "# Set axis labels and title\n",
        "ax.set_xlabel('IMDB Rating')\n",
        "ax.set_ylabel('Movie Title')\n",
        "ax.set_title('Top 10 Movies by IMDB Rating')\n",
        "\n",
        "# Display the plot\n",
        "plt.show()"
      ]
    },
    {
      "cell_type": "code",
      "execution_count": 46,
      "metadata": {},
      "outputs": [
        {
          "data": {
            "image/png": "[encoded data removed]",
            "text/plain": [
              "<Figure size 800x550 with 1 Axes>"
            ]
          },
          "metadata": {},
          "output_type": "display_data"
        }
      ],
      "source": [
        "# Select the top 10 movies\n",
        "top_movies = popular_movies[['imbd_rating','title']].head(10)\n",
        "\n",
        "# Plot a horizontal bar chart of the top-rated movies\n",
        "plt.barh(top_movies['title'], top_movies['imbd_rating'].sort_values())\n",
        "plt.title('Top 10 Most Popular Movies Based on IMDb Ratings')\n",
        "plt.xlabel('IMDb Rating')\n",
        "plt.ylabel('Movie Title')\n",
        "plt.show()"
      ]
    },
    {
      "attachments": {},
      "cell_type": "markdown",
      "metadata": {
        "id": "zyDvemee_w4P"
      },
      "source": [
        "### What are the most popular movie titles in the dataset based on Imdb Votes?"
      ]
    },
    {
      "cell_type": "code",
      "execution_count": 26,
      "metadata": {},
      "outputs": [
        {
          "name": "stdout",
          "output_type": "stream",
          "text": [
            "The most popular movie titles in the dataset based on IMDB Votes are:\n",
            "                       title imbd_votes\n",
            "184                Gone Girl     996836\n",
            "148   No Country for Old Men     987934\n",
            "80         Good Will Hunting     987400\n",
            "106                 Hamilton      98498\n",
            "55   Raiders of the Lost Ark     976471\n",
            "232      The Grapes of Wrath      95146\n",
            "142         A Beautiful Mind     941601\n",
            "186              The General      92925\n",
            "87                 Capernaum      92871\n",
            "201           Monsters, Inc.     920862\n"
          ]
        }
      ],
      "source": [
        "# Sort the movies by imdb voates in descending order\n",
        "popular_movies = movies.sort_values('imbd_votes', ascending=False)\n",
        "\n",
        "print('The most popular movie titles in the dataset based on IMDB Votes are:')\n",
        "print(popular_movies[['title', 'imbd_votes']].head(10))"
      ]
    },
    {
      "attachments": {},
      "cell_type": "markdown",
      "metadata": {
        "id": "vT1DZrCIAJ8y"
      },
      "source": [
        "### What is the distribution of ratings given by different users in dataset?"
      ]
    },
    {
      "cell_type": "code",
      "execution_count": 27,
      "metadata": {
        "colab": {
          "base_uri": "https://localhost:8080/"
        },
        "id": "WDK_EC0jFsQM",
        "outputId": "7a665cfc-d2c7-4c2c-b0b8-01242f62cf69"
      },
      "outputs": [
        {
          "data": {
            "text/plain": [
              "9.3    0.004\n",
              "9.2    0.004\n",
              "8.9    0.004\n",
              "8.7    0.016\n",
              "9.0    0.020\n",
              "8.0    0.020\n",
              "8.8    0.028\n",
              "8.6    0.052\n",
              "8.5    0.088\n",
              "8.4    0.116\n",
              "8.3    0.156\n",
              "8.2    0.220\n",
              "8.1    0.272\n",
              "Name: imbd_rating, dtype: float64"
            ]
          },
          "execution_count": 27,
          "metadata": {},
          "output_type": "execute_result"
        }
      ],
      "source": [
        "user_ratings = movies['imbd_rating'].value_counts(normalize=True)\n",
        "user_ratings =  user_ratings.sort_values(ascending= True)\n",
        "user_ratings"
      ]
    },
    {
      "attachments": {},
      "cell_type": "markdown",
      "metadata": {},
      "source": [
        "The output shows the relative frequency of each unique IMDb rating in the 'imbd_rating' column of the 'movies' DataFrame. For example, 0.4% of movies have a rating of 9.3, 1.6% have a rating of 8.7, 2.0% have a rating of 9, and so on."
      ]
    },
    {
      "attachments": {},
      "cell_type": "markdown",
      "metadata": {
        "id": "fLoH7xC3Jcwf"
      },
      "source": [
        "### How does the IMDb rating of the top-rated movies directed by Christopher Nolan compare to each other?"
      ]
    },
    {
      "cell_type": "code",
      "execution_count": 98,
      "metadata": {
        "colab": {
          "base_uri": "https://localhost:8080/",
          "height": 295
        },
        "id": "NzVi5v8vFU8h",
        "outputId": "97ae6e2d-e9a2-43c1-f94a-aff8a9974d40"
      },
      "outputs": [
        {
          "name": "stderr",
          "output_type": "stream",
          "text": [
            "C:\\Users\\YaqoobDavid\\AppData\\Local\\Temp\\ipykernel_12356\\1710110836.py:14: MatplotlibDeprecationWarning: The get_cmap function was deprecated in Matplotlib 3.7 and will be removed two minor releases later. Use ``matplotlib.colormaps[name]`` or ``matplotlib.colormaps.get_cmap(obj)`` instead.\n",
            "  cmap = plt.cm.get_cmap('Reds')\n"
          ]
        },
        {
          "data": {
            "image/png": "[encoded data removed]",
            "text/plain": [
              "<Figure size 800x550 with 1 Axes>"
            ]
          },
          "metadata": {},
          "output_type": "display_data"
        }
      ],
      "source": [
        "# Select movies with a director name of 'Christopher Nolan' and an IMDb rating greater than 8\n",
        "best_rating = movies[(movies.director_name == 'Christopher Nolan') & (movies.imbd_rating > 8)]\n",
        "\n",
        "# Sort the resulting DataFrame by IMDb rating in descending order\n",
        "best_rating = best_rating.sort_values(['imbd_rating','imbd_votes'], ascending=False)\n",
        "\n",
        "# Display the top movies by IMDb rating and voting\n",
        "top_rated = best_rating.head()\n",
        "\n",
        "# Reverse the order of the data\n",
        "top_rated = top_rated.iloc[::-1]\n",
        "\n",
        "# Create a colormap based on the IMDb ratings\n",
        "cmap = plt.cm.get_cmap('Reds')\n",
        "norm = mcolors.Normalize(vmin=top_rated['imbd_rating'].min(), vmax=top_rated['imbd_rating'].max())\n",
        "colors = cmap(norm(top_rated['imbd_rating']))\n",
        "\n",
        "\n",
        "# Plot a horizontal bar chart of the top-rated movies\n",
        "plt.style.use('seaborn-v0_8')\n",
        "plt.barh(top_rated['title'], top_rated['imbd_rating'])\n",
        "plt.title('Top-rated movies by Christopher Nolan')\n",
        "plt.xlabel('IMDb Rating')\n",
        "plt.ylabel('Movie Title')\n",
        "plt.show()"
      ]
    },
    {
      "attachments": {},
      "cell_type": "markdown",
      "metadata": {
        "id": "-2X3TElVJl82"
      },
      "source": [
        "### What are the top-rated movies directed by Martin Scorsese according to IMDb ratings?"
      ]
    },
    {
      "cell_type": "code",
      "execution_count": 48,
      "metadata": {},
      "outputs": [
        {
          "data": {
            "text/plain": [
              "['Solarize_Light2',\n",
              " '_classic_test_patch',\n",
              " '_mpl-gallery',\n",
              " '_mpl-gallery-nogrid',\n",
              " 'bmh',\n",
              " 'classic',\n",
              " 'dark_background',\n",
              " 'fast',\n",
              " 'fivethirtyeight',\n",
              " 'ggplot',\n",
              " 'grayscale',\n",
              " 'seaborn-v0_8',\n",
              " 'seaborn-v0_8-bright',\n",
              " 'seaborn-v0_8-colorblind',\n",
              " 'seaborn-v0_8-dark',\n",
              " 'seaborn-v0_8-dark-palette',\n",
              " 'seaborn-v0_8-darkgrid',\n",
              " 'seaborn-v0_8-deep',\n",
              " 'seaborn-v0_8-muted',\n",
              " 'seaborn-v0_8-notebook',\n",
              " 'seaborn-v0_8-paper',\n",
              " 'seaborn-v0_8-pastel',\n",
              " 'seaborn-v0_8-poster',\n",
              " 'seaborn-v0_8-talk',\n",
              " 'seaborn-v0_8-ticks',\n",
              " 'seaborn-v0_8-white',\n",
              " 'seaborn-v0_8-whitegrid',\n",
              " 'tableau-colorblind10']"
            ]
          },
          "execution_count": 48,
          "metadata": {},
          "output_type": "execute_result"
        }
      ],
      "source": [
        "plt.style.available"
      ]
    },
    {
      "cell_type": "code",
      "execution_count": 99,
      "metadata": {
        "colab": {
          "base_uri": "https://localhost:8080/",
          "height": 295
        },
        "id": "tKCklBl1FU4f",
        "outputId": "76c67f5e-22fc-4eb5-d0bd-2839b3748bfe"
      },
      "outputs": [
        {
          "name": "stderr",
          "output_type": "stream",
          "text": [
            "C:\\Users\\YaqoobDavid\\AppData\\Local\\Temp\\ipykernel_12356\\599446579.py:14: MatplotlibDeprecationWarning: The get_cmap function was deprecated in Matplotlib 3.7 and will be removed two minor releases later. Use ``matplotlib.colormaps[name]`` or ``matplotlib.colormaps.get_cmap(obj)`` instead.\n",
            "  cmap = plt.cm.get_cmap('Reds')\n"
          ]
        },
        {
          "data": {
            "image/png": "[encoded data removed]",
            "text/plain": [
              "<Figure size 800x550 with 1 Axes>"
            ]
          },
          "metadata": {},
          "output_type": "display_data"
        }
      ],
      "source": [
        "# Select movies with a director name of 'Martin Scorsese' and an IMDb rating greater than 8\n",
        "best_rating = movies[(movies.director_name == 'Martin Scorsese') & (movies.imbd_rating > 8)]\n",
        "\n",
        "# Sort the resulting DataFrame by IMDb rating in descending order\n",
        "best_rating = best_rating.sort_values(['imbd_rating','imbd_votes'], ascending=False)\n",
        "\n",
        "# Display the top movies by IMDb rating and voting\n",
        "top_rated = best_rating.head()\n",
        "\n",
        "# Reverse the order of the data\n",
        "top_rated = top_rated.iloc[::-1]\n",
        "\n",
        "# Create a colormap based on the IMDb ratings\n",
        "cmap = plt.cm.get_cmap('Reds')\n",
        "norm = mcolors.Normalize(vmin=top_rated['imbd_rating'].min(), vmax=top_rated['imbd_rating'].max())\n",
        "colors = cmap(norm(top_rated['imbd_rating']))\n",
        "\n",
        "# Plot a horizontal bar chart of the top-rated movies\n",
        "plt.style.use('seaborn-v0_8')\n",
        "plt.barh(top_rated['title'], top_rated['imbd_rating'])\n",
        "plt.title('Top-rated movies by Martin Scorsese')\n",
        "plt.xlabel('IMDb Rating')\n",
        "plt.ylabel('Movie Title')\n",
        "plt.show()"
      ]
    },
    {
      "attachments": {},
      "cell_type": "markdown",
      "metadata": {},
      "source": [
        "### What are the top-rated movies directed by Francis Ford Coppola according to IMDb ratings?"
      ]
    },
    {
      "cell_type": "code",
      "execution_count": 100,
      "metadata": {
        "colab": {
          "base_uri": "https://localhost:8080/",
          "height": 295
        },
        "id": "G9XHy3bKFUy7",
        "outputId": "2d08b5ea-cb5b-41d5-9f56-84ac1250c5d6"
      },
      "outputs": [
        {
          "name": "stderr",
          "output_type": "stream",
          "text": [
            "C:\\Users\\YaqoobDavid\\AppData\\Local\\Temp\\ipykernel_12356\\417888309.py:14: MatplotlibDeprecationWarning: The get_cmap function was deprecated in Matplotlib 3.7 and will be removed two minor releases later. Use ``matplotlib.colormaps[name]`` or ``matplotlib.colormaps.get_cmap(obj)`` instead.\n",
            "  cmap = plt.cm.get_cmap('Reds')\n"
          ]
        },
        {
          "data": {
            "image/png": "[encoded data removed]",
            "text/plain": [
              "<Figure size 800x550 with 1 Axes>"
            ]
          },
          "metadata": {},
          "output_type": "display_data"
        }
      ],
      "source": [
        "# Select movies with a director name of 'Francis Ford Coppola' and an IMDb rating greater than 8\n",
        "best_rating = movies[(movies.director_name == 'Francis Ford Coppola') & (movies.imbd_rating > 8)]\n",
        "\n",
        "# Sort the resulting DataFrame by IMDb rating in descending order\n",
        "best_rating = best_rating.sort_values(['imbd_rating','imbd_votes'], ascending=False)\n",
        "\n",
        "# Display the top movies by IMDb rating and voting\n",
        "top_rated = best_rating.head()\n",
        "\n",
        "# Reverse the order of the data\n",
        "top_rated = top_rated.iloc[::-1]\n",
        "\n",
        "# Create a colormap based on the IMDb ratings\n",
        "cmap = plt.cm.get_cmap('Reds')\n",
        "norm = mcolors.Normalize(vmin=top_rated['imbd_rating'].min(), vmax=top_rated['imbd_rating'].max())\n",
        "colors = cmap(norm(top_rated['imbd_rating']))\n",
        "\n",
        "# Plot a horizontal bar chart of the top-rated movies\n",
        "plt.style.use('seaborn-v0_8')\n",
        "plt.barh(top_rated['title'], top_rated['imbd_rating'])\n",
        "plt.title('Top-rated movies by Francis Ford Coppola ')\n",
        "plt.xlabel('IMDb Rating')\n",
        "plt.ylabel('Movie Title')\n",
        "plt.show()"
      ]
    },
    {
      "attachments": {},
      "cell_type": "markdown",
      "metadata": {},
      "source": [
        "### What are the top-rated movies directed by Peter Jackson according to IMDb ratings?"
      ]
    },
    {
      "cell_type": "code",
      "execution_count": 101,
      "metadata": {
        "colab": {
          "base_uri": "https://localhost:8080/",
          "height": 295
        },
        "id": "m3_ZalMvFUuh",
        "outputId": "55062acc-d38c-426f-f7e4-2478610df540"
      },
      "outputs": [
        {
          "name": "stderr",
          "output_type": "stream",
          "text": [
            "C:\\Users\\YaqoobDavid\\AppData\\Local\\Temp\\ipykernel_12356\\1089811726.py:14: MatplotlibDeprecationWarning: The get_cmap function was deprecated in Matplotlib 3.7 and will be removed two minor releases later. Use ``matplotlib.colormaps[name]`` or ``matplotlib.colormaps.get_cmap(obj)`` instead.\n",
            "  cmap = plt.cm.get_cmap('Reds')\n"
          ]
        },
        {
          "data": {
            "image/png": "[encoded data removed]",
            "text/plain": [
              "<Figure size 800x550 with 1 Axes>"
            ]
          },
          "metadata": {},
          "output_type": "display_data"
        }
      ],
      "source": [
        "# Select movies with a director name of 'Peter Jackson' and an IMDb rating greater than 8\n",
        "best_rating = movies[(movies.director_name == 'Peter Jackson') & (movies.imbd_rating > 8)]\n",
        "\n",
        "# Sort the resulting DataFrame by IMDb rating in descending order\n",
        "best_rating = best_rating.sort_values(['imbd_rating','imbd_votes'], ascending=False)\n",
        "\n",
        "# Display the top movies by IMDb rating and voting\n",
        "top_rated = best_rating.head()\n",
        "\n",
        "# Reverse the order of the data\n",
        "top_rated = top_rated.iloc[::-1]\n",
        "\n",
        "# Create a colormap based on the IMDb ratings\n",
        "cmap = plt.cm.get_cmap('Reds')\n",
        "norm = mcolors.Normalize(vmin=top_rated['imbd_rating'].min(), vmax=top_rated['imbd_rating'].max())\n",
        "colors = cmap(norm(top_rated['imbd_rating']))\n",
        "\n",
        "# Plot a horizontal bar chart of the top-rated movies\n",
        "plt.style.use('seaborn-v0_8')\n",
        "plt.barh(top_rated['title'], top_rated['imbd_rating'])\n",
        "plt.title('Top-rated movies by Peter Jackson ')\n",
        "plt.xlabel('IMDb Rating')\n",
        "plt.ylabel('Movie Title')\n",
        "plt.show()"
      ]
    },
    {
      "attachments": {},
      "cell_type": "markdown",
      "metadata": {},
      "source": [
        "### What are the top-rated movies directed by Frank Darabont according to IMDb ratings?"
      ]
    },
    {
      "cell_type": "code",
      "execution_count": 102,
      "metadata": {
        "colab": {
          "base_uri": "https://localhost:8080/",
          "height": 295
        },
        "id": "LNuusbfMFUrY",
        "outputId": "6fa9fa6a-fd07-4029-cc48-fdd8d82735f0"
      },
      "outputs": [
        {
          "name": "stderr",
          "output_type": "stream",
          "text": [
            "C:\\Users\\YaqoobDavid\\AppData\\Local\\Temp\\ipykernel_12356\\3799427557.py:14: MatplotlibDeprecationWarning: The get_cmap function was deprecated in Matplotlib 3.7 and will be removed two minor releases later. Use ``matplotlib.colormaps[name]`` or ``matplotlib.colormaps.get_cmap(obj)`` instead.\n",
            "  cmap = plt.cm.get_cmap('Reds')\n"
          ]
        },
        {
          "data": {
            "image/png": "[encoded data removed]",
            "text/plain": [
              "<Figure size 800x550 with 1 Axes>"
            ]
          },
          "metadata": {},
          "output_type": "display_data"
        }
      ],
      "source": [
        "# Select movies with a director name of 'Frank Darabont' and an IMDb rating greater than 8\n",
        "best_rating = movies[(movies.director_name == 'Frank Darabont') & (movies.imbd_rating > 8)]\n",
        "\n",
        "# Sort the resulting DataFrame by IMDb rating in descending order\n",
        "best_rating = best_rating.sort_values(['imbd_rating','imbd_votes'], ascending=False)\n",
        "\n",
        "# Display the top movies by IMDb rating and voting\n",
        "top_rated = best_rating.head()\n",
        "\n",
        "# Reverse the order of the data\n",
        "top_rated = top_rated.iloc[::-1]\n",
        "\n",
        "# Create a colormap based on the IMDb ratings\n",
        "cmap = plt.cm.get_cmap('Reds')\n",
        "norm = mcolors.Normalize(vmin=top_rated['imbd_rating'].min(), vmax=top_rated['imbd_rating'].max())\n",
        "colors = cmap(norm(top_rated['imbd_rating']))\n",
        "\n",
        "# Plot a horizontal bar chart of the top-rated movies\n",
        "plt.style.use('seaborn-v0_8')\n",
        "plt.barh(top_rated['title'], top_rated['imbd_rating'])\n",
        "plt.title('Top-rated movies by Frank Darabont')\n",
        "plt.xlabel('IMDb Rating')\n",
        "plt.ylabel('Movie Title')\n",
        "plt.show()"
      ]
    },
    {
      "attachments": {},
      "cell_type": "markdown",
      "metadata": {},
      "source": [
        "### What are the top-rated movies directed by Robert Zemeckis according to IMDb ratings?"
      ]
    },
    {
      "cell_type": "code",
      "execution_count": 104,
      "metadata": {
        "colab": {
          "base_uri": "https://localhost:8080/",
          "height": 295
        },
        "id": "FcIUqgaLM5J-",
        "outputId": "b32da73c-d689-4e56-b380-79ab60fbf48d"
      },
      "outputs": [
        {
          "name": "stderr",
          "output_type": "stream",
          "text": [
            "C:\\Users\\YaqoobDavid\\AppData\\Local\\Temp\\ipykernel_12356\\1861069026.py:14: MatplotlibDeprecationWarning: The get_cmap function was deprecated in Matplotlib 3.7 and will be removed two minor releases later. Use ``matplotlib.colormaps[name]`` or ``matplotlib.colormaps.get_cmap(obj)`` instead.\n",
            "  cmap = plt.cm.get_cmap('Reds')\n"
          ]
        },
        {
          "data": {
            "image/png": "[encoded data removed]",
            "text/plain": [
              "<Figure size 800x550 with 1 Axes>"
            ]
          },
          "metadata": {},
          "output_type": "display_data"
        }
      ],
      "source": [
        "# Select movies with a director name of 'Robert Zemeckis' and an IMDb rating greater than 8\n",
        "best_rating = movies[(movies.director_name == 'Robert Zemeckis') & (movies.imbd_rating > 8)]\n",
        "\n",
        "# Sort the resulting DataFrame by IMDb rating in descending order\n",
        "best_rating = best_rating.sort_values(['imbd_rating','imbd_votes'], ascending=False)\n",
        "\n",
        "# Display the top movies by IMDb rating and voting\n",
        "top_rated = best_rating.head()\n",
        "\n",
        "# Reverse the order of the data\n",
        "top_rated = top_rated.iloc[::-1]\n",
        "\n",
        "# Create a colormap based on the IMDb ratings\n",
        "cmap = plt.cm.get_cmap('Reds')\n",
        "norm = mcolors.Normalize(vmin=top_rated['imbd_rating'].min(), vmax=top_rated['imbd_rating'].max())\n",
        "colors = cmap(norm(top_rated['imbd_rating']))\n",
        "\n",
        "# Plot a horizontal bar chart of the top-rated movies\n",
        "plt.style.use('seaborn-v0_8')\n",
        "plt.barh(top_rated['title'], top_rated['imbd_rating'])\n",
        "plt.title('Top-rated movies by Robert Zemeckis')\n",
        "plt.xlabel('IMDb Rating')\n",
        "plt.ylabel('Movie Title')\n",
        "plt.show()"
      ]
    },
    {
      "attachments": {},
      "cell_type": "markdown",
      "metadata": {},
      "source": [
        "###  The correlation between the 'duration' and 'imbd_rating' variables in the 'movies' DataFrame. "
      ]
    },
    {
      "cell_type": "code",
      "execution_count": 34,
      "metadata": {},
      "outputs": [
        {
          "data": {
            "text/plain": [
              "0.2825019895458363"
            ]
          },
          "execution_count": 34,
          "metadata": {},
          "output_type": "execute_result"
        }
      ],
      "source": [
        "# calculate the correlation between the two variables\n",
        "correlation = movies['duration'].corr(movies['imbd_rating'])\n",
        "correlation"
      ]
    },
    {
      "cell_type": "code",
      "execution_count": 58,
      "metadata": {},
      "outputs": [
        {
          "data": {
            "image/png": "[encoded data removed]",
            "text/plain": [
              "<Figure size 800x550 with 1 Axes>"
            ]
          },
          "metadata": {},
          "output_type": "display_data"
        }
      ],
      "source": [
        "import matplotlib.pyplot as plt\n",
        "\n",
        "# Create a scatter plot of duration vs. imbd_rating\n",
        "plt.style.use('seaborn-v0_8')\n",
        "plt.scatter(movies['duration'], movies['imbd_rating'])\n",
        "\n",
        "# Set the x-axis label\n",
        "plt.xlabel('Duration')\n",
        "\n",
        "# Set the y-axis label\n",
        "plt.ylabel('IMBD Rating')\n",
        "\n",
        "# Set the title of the plot\n",
        "plt.title('Scatter Plot of Duration vs. IMBD Rating')\n",
        "\n",
        "# Show the plot\n",
        "plt.show()"
      ]
    },
    {
      "attachments": {},
      "cell_type": "markdown",
      "metadata": {},
      "source": [
        "The above plot indicates a weak positive correlation between the duration of a movie and its IMBD rating. In other words, movies with longer duration tend to have slightly higher IMBD ratings, but the relationship between the two variables is not very strong."
      ]
    }
  ],
  "metadata": {
    "colab": {
      "provenance": []
    },
    "kernelspec": {
      "display_name": "Python 3",
      "name": "python3"
    },
    "language_info": {
      "codemirror_mode": {
        "name": "ipython",
        "version": 3
      },
      "file_extension": ".py",
      "mimetype": "text/x-python",
      "name": "python",
      "nbconvert_exporter": "python",
      "pygments_lexer": "ipython3",
      "version": "3.10.9"
    }
  },
  "nbformat": 4,
  "nbformat_minor": 0
}
